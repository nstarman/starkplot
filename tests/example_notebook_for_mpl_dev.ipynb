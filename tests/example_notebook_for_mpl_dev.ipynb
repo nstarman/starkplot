{
 "cells": [
  {
   "cell_type": "markdown",
   "metadata": {
    "toc": true
   },
   "source": [
    "<h1>Table of Contents<span class=\"tocSkip\"></span></h1>\n",
    "<div class=\"toc\"><ul class=\"toc-item\"><li><ul class=\"toc-item\"><li><span><a href=\"#Initializing\" data-toc-modified-id=\"Initializing-0.1\"><span class=\"toc-item-num\">0.1&nbsp;&nbsp;</span>Initializing</a></span><ul class=\"toc-item\"><li><span><a href=\"#Playing-with-Axes\" data-toc-modified-id=\"Playing-with-Axes-0.1.1\"><span class=\"toc-item-num\">0.1.1&nbsp;&nbsp;</span>Playing with Axes</a></span></li><li><span><a href=\"#Colorbars\" data-toc-modified-id=\"Colorbars-0.1.2\"><span class=\"toc-item-num\">0.1.2&nbsp;&nbsp;</span>Colorbars</a></span></li><li><span><a href=\"#Side-Histograms\" data-toc-modified-id=\"Side-Histograms-0.1.3\"><span class=\"toc-item-num\">0.1.3&nbsp;&nbsp;</span>Side Histograms</a></span></li></ul></li></ul></li><li><span><a href=\"#Decorators\" data-toc-modified-id=\"Decorators-1\"><span class=\"toc-item-num\">1&nbsp;&nbsp;</span>Decorators</a></span><ul class=\"toc-item\"><li><span><a href=\"#Documentation\" data-toc-modified-id=\"Documentation-1.1\"><span class=\"toc-item-num\">1.1&nbsp;&nbsp;</span>Documentation</a></span></li></ul></li></ul></div>"
   ]
  },
  {
   "cell_type": "markdown",
   "metadata": {},
   "source": [
    "## Initializing"
   ]
  },
  {
   "cell_type": "code",
   "execution_count": 1,
   "metadata": {
    "ExecuteTime": {
     "end_time": "2019-04-28T01:27:46.621401Z",
     "start_time": "2019-04-28T01:27:44.511489Z"
    }
   },
   "outputs": [
    {
     "ename": "ImportError",
     "evalue": "cannot import name 'mpl_decorator2' from 'starkplot' (/Users/nathanielstarkman/repos/starkplot/starkplot/__init__.py)",
     "output_type": "error",
     "traceback": [
      "\u001b[0;31m---------------------------------------------------------------------------\u001b[0m",
      "\u001b[0;31mImportError\u001b[0m                               Traceback (most recent call last)",
      "\u001b[0;32m<ipython-input-1-0cd6312f48dd>\u001b[0m in \u001b[0;36m<module>\u001b[0;34m\u001b[0m\n\u001b[1;32m      7\u001b[0m \u001b[0;32mimport\u001b[0m \u001b[0msys\u001b[0m\u001b[0;34m;\u001b[0m \u001b[0msys\u001b[0m\u001b[0;34m.\u001b[0m\u001b[0mpath\u001b[0m\u001b[0;34m.\u001b[0m\u001b[0minsert\u001b[0m\u001b[0;34m(\u001b[0m\u001b[0;36m0\u001b[0m\u001b[0;34m,\u001b[0m \u001b[0;34m''\u001b[0m\u001b[0;34m)\u001b[0m\u001b[0;34m\u001b[0m\u001b[0;34m\u001b[0m\u001b[0m\n\u001b[1;32m      8\u001b[0m \u001b[0;32mimport\u001b[0m \u001b[0mstarkplot\u001b[0m \u001b[0;32mas\u001b[0m \u001b[0msplt\u001b[0m\u001b[0;34m\u001b[0m\u001b[0;34m\u001b[0m\u001b[0m\n\u001b[0;32m----> 9\u001b[0;31m \u001b[0;32mfrom\u001b[0m \u001b[0mstarkplot\u001b[0m \u001b[0;32mimport\u001b[0m \u001b[0mmpl_decorator2\u001b[0m \u001b[0;32mas\u001b[0m \u001b[0mmpl_decorator\u001b[0m\u001b[0;34m,\u001b[0m \u001b[0mMatplotlibDecorator2\u001b[0m \u001b[0;32mas\u001b[0m \u001b[0mMatplotlibDecorator\u001b[0m\u001b[0;34m\u001b[0m\u001b[0;34m\u001b[0m\u001b[0m\n\u001b[0m",
      "\u001b[0;31mImportError\u001b[0m: cannot import name 'mpl_decorator2' from 'starkplot' (/Users/nathanielstarkman/repos/starkplot/starkplot/__init__.py)"
     ]
    }
   ],
   "source": [
    "import numpy as np\n",
    "import matplotlib.pyplot as plt\n",
    "\n",
    "from matplotlib import pylab\n",
    "pylab.rcParams['figure.figsize'] = (5, 3)\n",
    "\n",
    "import sys; sys.path.insert(0, '')\n",
    "import starkplot as splt\n",
    "from starkplot import mpl_decorator2 as mpl_decorator, MatplotlibDecorator2 as MatplotlibDecorator"
   ]
  },
  {
   "cell_type": "code",
   "execution_count": null,
   "metadata": {
    "ExecuteTime": {
     "end_time": "2019-04-28T01:27:46.623345Z",
     "start_time": "2019-04-28T01:27:44.512Z"
    }
   },
   "outputs": [],
   "source": [
    "rand = np.random.RandomState(0)  # constant random numbers\n",
    "\n",
    "# lines\n",
    "xl = np.linspace(0, 2 * np.pi, 100)\n",
    "yl = 2 * np.sin(xl) + np.pi\n",
    "\n",
    "# scatter\n",
    "xs, ys = rand.rand(2, 100) * 2 * np.pi"
   ]
  },
  {
   "cell_type": "markdown",
   "metadata": {},
   "source": [
    "<br>\n",
    "\n",
    "The `fig` argument can also accept a Figure, which allows for more interesting behavior.\n",
    "\n",
    "Note that passing a figure argument like this will make that figure current.\n",
    "This can be prevented using `rtcf=True` (return to current figure)."
   ]
  },
  {
   "cell_type": "code",
   "execution_count": null,
   "metadata": {
    "ExecuteTime": {
     "end_time": "2019-04-28T01:27:46.623967Z",
     "start_time": "2019-04-28T01:27:45.138Z"
    }
   },
   "outputs": [],
   "source": [
    "splt.scatter(xs, ys, c='b')\n",
    "oldfig = splt.gcf()\n",
    "\n",
    "splt.plot(xl, yl, ls='-.', lw=5, c='g',\n",
    "          fig='new')\n",
    "print('cur fig', plt.gcf().number)\n",
    "\n",
    "splt.plot(xl, yl, ls='-.', lw=5, c='r',  # plotting on old plot\n",
    "          fig=oldfig, rtcf=True)\n",
    "\n",
    "print('cur fig', plt.gcf().number)\n",
    "\n",
    "splt.scatter(xs, ys, c='tab:cyan', alpha=.5)"
   ]
  },
  {
   "cell_type": "markdown",
   "metadata": {},
   "source": [
    "<br>\n",
    "\n",
    "There are many other useful features pertaining to the figure.\n",
    "\n",
    "Easily accessible ones are:\n",
    "\n",
    "- `savefig`\n",
    "- `closefig`,\n",
    "- `tight_layout`\n",
    "- `suptitle`\n",
    "\n",
    "They have a variety of input options, and it is worth looking at the documentation."
   ]
  },
  {
   "cell_type": "code",
   "execution_count": null,
   "metadata": {
    "ExecuteTime": {
     "end_time": "2019-04-28T01:27:46.624881Z",
     "start_time": "2019-04-28T01:27:45.771Z"
    }
   },
   "outputs": [],
   "source": [
    "splt.scatter(xs, ys, c='b',\n",
    "             suptitle='Suptitle')\n",
    "splt.plot(xl, yl, ls='-.', lw=5, c='g',\n",
    "          tight_layout={'rect': [0, 0, 1, .95]});"
   ]
  },
  {
   "cell_type": "markdown",
   "metadata": {},
   "source": [
    "<br>\n",
    "\n",
    "Advanced options are held in `xkw`. With `xkw` almost any property of the plot may be set or overridden.\n",
    "\n",
    "There are a lot of details with using `xkw`, and so the documentation is important. But broadly speaking, there are three levels in the options heirarchy:\n",
    "\n",
    "1) any option specified outside of `xkw`  \n",
    "\n",
    "> ex: suptitle = ('the suptitle', {'fontsize': 20})\n",
    "\n",
    "2) a dictionary item of the same name \n",
    "\n",
    "> ex: xkw={'suptitle': {'fontsize': 20}}\n",
    "\n",
    "3) items prefixed by the same name\n",
    "\n",
    "> ex: xkw={'suptitle_fontsize': 20}\n",
    "\n",
    "\n",
    "Currently if one is provided all lower-hierarchy options are ignored.\n",
    "**HOWEVER,** I plan to instead have higher-hierarchy options instead override lower-hierarchy options. This is not yet implemented."
   ]
  },
  {
   "cell_type": "code",
   "execution_count": null,
   "metadata": {
    "ExecuteTime": {
     "end_time": "2019-04-28T01:27:46.625616Z",
     "start_time": "2019-04-28T01:27:46.407Z"
    }
   },
   "outputs": [],
   "source": [
    "splt.scatter(xs, ys, c='b',\n",
    "             suptitle='Suptitle',\n",
    "             xkw={'fontsize': 14, 'facecolor': 'gray',\n",
    "                  'suptitle': {'fontsize': 30, 'x': '.7', 'color':'purple'}},\n",
    "             fig='new')"
   ]
  },
  {
   "cell_type": "markdown",
   "metadata": {},
   "source": [
    "<br><br>\n",
    "\n",
    "- - -\n",
    "\n",
    "<br><br>\n",
    "\n",
    "### Playing with Axes\n",
    "\n",
    "Figures are the least of what *starkplot* can do. Modifying axes with *starkplot* is much more rewarding."
   ]
  },
  {
   "cell_type": "code",
   "execution_count": 2,
   "metadata": {
    "ExecuteTime": {
     "end_time": "2019-04-28T01:27:47.055220Z",
     "start_time": "2019-04-28T01:27:47.046911Z"
    }
   },
   "outputs": [
    {
     "ename": "NameError",
     "evalue": "name 'xs' is not defined",
     "output_type": "error",
     "traceback": [
      "\u001b[0;31m---------------------------------------------------------------------------\u001b[0m",
      "\u001b[0;31mNameError\u001b[0m                                 Traceback (most recent call last)",
      "\u001b[0;32m<ipython-input-2-c6d1abe250eb>\u001b[0m in \u001b[0;36m<module>\u001b[0;34m\u001b[0m\n\u001b[0;32m----> 1\u001b[0;31m \u001b[0msplt\u001b[0m\u001b[0;34m.\u001b[0m\u001b[0mscatter\u001b[0m\u001b[0;34m(\u001b[0m\u001b[0mxs\u001b[0m\u001b[0;34m,\u001b[0m \u001b[0mys\u001b[0m\u001b[0;34m,\u001b[0m \u001b[0mc\u001b[0m\u001b[0;34m=\u001b[0m\u001b[0;34m'b'\u001b[0m\u001b[0;34m,\u001b[0m \u001b[0max\u001b[0m\u001b[0;34m=\u001b[0m\u001b[0;36m121\u001b[0m\u001b[0;34m,\u001b[0m \u001b[0mfig\u001b[0m\u001b[0;34m=\u001b[0m\u001b[0;34m'new'\u001b[0m\u001b[0;34m,\u001b[0m \u001b[0mfigsize\u001b[0m\u001b[0;34m=\u001b[0m\u001b[0;34m(\u001b[0m\u001b[0;36m10\u001b[0m\u001b[0;34m,\u001b[0m \u001b[0;36m4\u001b[0m\u001b[0;34m)\u001b[0m\u001b[0;34m)\u001b[0m\u001b[0;34m\u001b[0m\u001b[0;34m\u001b[0m\u001b[0m\n\u001b[0m\u001b[1;32m      2\u001b[0m \u001b[0msplt\u001b[0m\u001b[0;34m.\u001b[0m\u001b[0mplot\u001b[0m\u001b[0;34m(\u001b[0m\u001b[0mxl\u001b[0m\u001b[0;34m,\u001b[0m \u001b[0myl\u001b[0m\u001b[0;34m,\u001b[0m \u001b[0mls\u001b[0m\u001b[0;34m=\u001b[0m\u001b[0;34m'-.'\u001b[0m\u001b[0;34m,\u001b[0m \u001b[0mlw\u001b[0m\u001b[0;34m=\u001b[0m\u001b[0;36m5\u001b[0m\u001b[0;34m,\u001b[0m \u001b[0mc\u001b[0m\u001b[0;34m=\u001b[0m\u001b[0;34m'r'\u001b[0m\u001b[0;34m)\u001b[0m\u001b[0;34m\u001b[0m\u001b[0;34m\u001b[0m\u001b[0m\n\u001b[1;32m      3\u001b[0m \u001b[0;34m\u001b[0m\u001b[0m\n\u001b[1;32m      4\u001b[0m \u001b[0msplt\u001b[0m\u001b[0;34m.\u001b[0m\u001b[0mplot\u001b[0m\u001b[0;34m(\u001b[0m\u001b[0mxl\u001b[0m\u001b[0;34m,\u001b[0m \u001b[0myl\u001b[0m\u001b[0;34m,\u001b[0m \u001b[0mls\u001b[0m\u001b[0;34m=\u001b[0m\u001b[0;34m'-.'\u001b[0m\u001b[0;34m,\u001b[0m \u001b[0mlw\u001b[0m\u001b[0;34m=\u001b[0m\u001b[0;36m5\u001b[0m\u001b[0;34m,\u001b[0m \u001b[0mc\u001b[0m\u001b[0;34m=\u001b[0m\u001b[0;34m'g'\u001b[0m\u001b[0;34m,\u001b[0m \u001b[0max\u001b[0m\u001b[0;34m=\u001b[0m\u001b[0;36m122\u001b[0m\u001b[0;34m)\u001b[0m\u001b[0;34m\u001b[0m\u001b[0;34m\u001b[0m\u001b[0m\n\u001b[1;32m      5\u001b[0m \u001b[0msplt\u001b[0m\u001b[0;34m.\u001b[0m\u001b[0mscatter\u001b[0m\u001b[0;34m(\u001b[0m\u001b[0mxs\u001b[0m\u001b[0;34m,\u001b[0m \u001b[0mys\u001b[0m\u001b[0;34m,\u001b[0m \u001b[0mc\u001b[0m\u001b[0;34m=\u001b[0m\u001b[0;34m'tab:cyan'\u001b[0m\u001b[0;34m,\u001b[0m \u001b[0malpha\u001b[0m\u001b[0;34m=\u001b[0m\u001b[0;36m.5\u001b[0m\u001b[0;34m)\u001b[0m\u001b[0;34m\u001b[0m\u001b[0;34m\u001b[0m\u001b[0m\n",
      "\u001b[0;31mNameError\u001b[0m: name 'xs' is not defined"
     ]
    }
   ],
   "source": [
    "splt.scatter(xs, ys, c='b', ax=121, fig='new', figsize=(10, 4))\n",
    "splt.plot(xl, yl, ls='-.', lw=5, c='r')\n",
    "\n",
    "splt.plot(xl, yl, ls='-.', lw=5, c='g', ax=122)\n",
    "splt.scatter(xs, ys, c='tab:cyan', alpha=.5)"
   ]
  },
  {
   "cell_type": "code",
   "execution_count": null,
   "metadata": {
    "ExecuteTime": {
     "end_time": "2019-04-28T01:27:47.056918Z",
     "start_time": "2019-04-28T01:27:47.048Z"
    }
   },
   "outputs": [],
   "source": [
    "splt.scatter(xs, ys, c='b', ax=121, fig='new', figsize=(10, 4))\n",
    "\n",
    "oldax = splt.gca()\n",
    "\n",
    "splt.plot(xl, yl, ls='-.', lw=5, c='g', ax=122)\n",
    "\n",
    "splt.plot(xl, yl, ls='-.', lw=5, c='r', ax=oldax, rtcf=True)\n",
    "\n",
    "splt.scatter(xs, ys, c='tab:cyan', alpha=.5)"
   ]
  },
  {
   "cell_type": "code",
   "execution_count": null,
   "metadata": {
    "ExecuteTime": {
     "end_time": "2019-04-28T01:27:47.057714Z",
     "start_time": "2019-04-28T01:27:47.051Z"
    }
   },
   "outputs": [],
   "source": [
    "xkw = {'fontsize': 12, 'title': {'fontsize': 20}, 'xlabel_color': 'red',\n",
    "       'ylabel': {'fontsize': 14}}\n",
    "\n",
    "splt.scatter(xs, ys, c=np.sqrt(xs**2 + ys**2),\n",
    "             label='scatter',\n",
    "             fig='new', figsize=(10, 4),\n",
    "             ax=121, title='Title 1', xlabel='x', ylabel='y',\n",
    "             xlim=(-1, 7), ylim=(-1, 7), aspect='equal',\n",
    "             legend=False,\n",
    "             xkw=xkw)\n",
    "\n",
    "splt.plot(xl, yl, ls='-.', lw=5, c='g', label='line',\n",
    "          ax=122,\n",
    "          title='Title 2', xlabel='X', ylabel='Y', \n",
    "          xscale='log',\n",
    "          xkw=xkw)"
   ]
  },
  {
   "cell_type": "markdown",
   "metadata": {},
   "source": [
    "### Colorbars\n",
    "\n",
    "*starkplot* can also do colorbars.\n",
    "\n",
    "\n",
    "The available arguments are:\n",
    "- colorbar\n",
    "- clabel\n",
    "- clim\n",
    "- cloc"
   ]
  },
  {
   "cell_type": "code",
   "execution_count": 3,
   "metadata": {
    "ExecuteTime": {
     "end_time": "2019-04-28T01:27:47.713558Z",
     "start_time": "2019-04-28T01:27:47.706145Z"
    },
    "scrolled": false
   },
   "outputs": [
    {
     "ename": "NameError",
     "evalue": "name 'xs' is not defined",
     "output_type": "error",
     "traceback": [
      "\u001b[0;31m---------------------------------------------------------------------------\u001b[0m",
      "\u001b[0;31mNameError\u001b[0m                                 Traceback (most recent call last)",
      "\u001b[0;32m<ipython-input-3-6f6b01849890>\u001b[0m in \u001b[0;36m<module>\u001b[0;34m\u001b[0m\n\u001b[0;32m----> 1\u001b[0;31m splt.scatter(xs, ys, c=np.sqrt(xs**2 + ys**2),\n\u001b[0m\u001b[1;32m      2\u001b[0m              \u001b[0max\u001b[0m\u001b[0;34m=\u001b[0m\u001b[0;36m121\u001b[0m\u001b[0;34m,\u001b[0m \u001b[0mfigsize\u001b[0m\u001b[0;34m=\u001b[0m\u001b[0;34m(\u001b[0m\u001b[0;36m14\u001b[0m\u001b[0;34m,\u001b[0m \u001b[0;36m4\u001b[0m\u001b[0;34m)\u001b[0m\u001b[0;34m,\u001b[0m \u001b[0moverridefig\u001b[0m\u001b[0;34m=\u001b[0m\u001b[0;32mTrue\u001b[0m\u001b[0;34m,\u001b[0m\u001b[0;34m\u001b[0m\u001b[0;34m\u001b[0m\u001b[0m\n\u001b[1;32m      3\u001b[0m              colorbar=True, clabel='colorbar', clim=(2, 6))\n",
      "\u001b[0;31mNameError\u001b[0m: name 'xs' is not defined"
     ]
    }
   ],
   "source": [
    "splt.scatter(xs, ys, c=np.sqrt(xs**2 + ys**2),\n",
    "             ax=121, figsize=(14, 4), overridefig=True,\n",
    "             colorbar=True, clabel='colorbar', clim=(2, 6))"
   ]
  },
  {
   "cell_type": "markdown",
   "metadata": {},
   "source": [
    "For a more fully featured example, a colorbar is added to the subplots made above."
   ]
  },
  {
   "cell_type": "code",
   "execution_count": 4,
   "metadata": {
    "ExecuteTime": {
     "end_time": "2019-04-28T01:27:48.370192Z",
     "start_time": "2019-04-28T01:27:48.360747Z"
    }
   },
   "outputs": [
    {
     "ename": "NameError",
     "evalue": "name 'xs' is not defined",
     "output_type": "error",
     "traceback": [
      "\u001b[0;31m---------------------------------------------------------------------------\u001b[0m",
      "\u001b[0;31mNameError\u001b[0m                                 Traceback (most recent call last)",
      "\u001b[0;32m<ipython-input-4-762bf930beed>\u001b[0m in \u001b[0;36m<module>\u001b[0;34m\u001b[0m\n\u001b[1;32m      2\u001b[0m        'ylabel': {'fontsize': 14}}\n\u001b[1;32m      3\u001b[0m \u001b[0;34m\u001b[0m\u001b[0m\n\u001b[0;32m----> 4\u001b[0;31m splt.scatter(xs, ys, c=np.sqrt(xs**2 + ys**2),\n\u001b[0m\u001b[1;32m      5\u001b[0m              \u001b[0mlabel\u001b[0m\u001b[0;34m=\u001b[0m\u001b[0;34m'scatter'\u001b[0m\u001b[0;34m,\u001b[0m\u001b[0;34m\u001b[0m\u001b[0;34m\u001b[0m\u001b[0m\n\u001b[1;32m      6\u001b[0m              \u001b[0mfig\u001b[0m\u001b[0;34m=\u001b[0m\u001b[0;34m'new'\u001b[0m\u001b[0;34m,\u001b[0m \u001b[0mfigsize\u001b[0m\u001b[0;34m=\u001b[0m\u001b[0;34m(\u001b[0m\u001b[0;36m10\u001b[0m\u001b[0;34m,\u001b[0m \u001b[0;36m4\u001b[0m\u001b[0;34m)\u001b[0m\u001b[0;34m,\u001b[0m\u001b[0;34m\u001b[0m\u001b[0;34m\u001b[0m\u001b[0m\n",
      "\u001b[0;31mNameError\u001b[0m: name 'xs' is not defined"
     ]
    }
   ],
   "source": [
    "xkw = {'fontsize': 12, 'title': {'fontsize': 20}, 'xlabel_color': 'red',\n",
    "       'ylabel': {'fontsize': 14}}\n",
    "\n",
    "splt.scatter(xs, ys, c=np.sqrt(xs**2 + ys**2),\n",
    "             label='scatter',\n",
    "             fig='new', figsize=(10, 4),\n",
    "             ax=121, title='Title 1', xlabel='x', ylabel='y',\n",
    "             xlim=(-1, 7), ylim=(-1, 7), aspect='equal',\n",
    "             colorbar=True, clabel='colorbar',\n",
    "             legend=False,\n",
    "             xkw=xkw)\n",
    "\n",
    "splt.plot(xl, yl, ls='-.', lw=5, c='g', label='line',\n",
    "          ax=122,\n",
    "          title='Title 2', xlabel='X', ylabel='Y', \n",
    "          xscale='log',\n",
    "          xkw=xkw)"
   ]
  },
  {
   "cell_type": "markdown",
   "metadata": {},
   "source": [
    "### Side Histograms\n",
    "\n",
    "*starkplot* can also make side histograms. This is still a more experimental feature, but is perfectly adequate for making histograms for a single plot."
   ]
  },
  {
   "cell_type": "code",
   "execution_count": 5,
   "metadata": {
    "ExecuteTime": {
     "end_time": "2019-04-28T01:27:49.046425Z",
     "start_time": "2019-04-28T01:27:49.038804Z"
    }
   },
   "outputs": [
    {
     "ename": "NameError",
     "evalue": "name 'xs' is not defined",
     "output_type": "error",
     "traceback": [
      "\u001b[0;31m---------------------------------------------------------------------------\u001b[0m",
      "\u001b[0;31mNameError\u001b[0m                                 Traceback (most recent call last)",
      "\u001b[0;32m<ipython-input-5-c2fa3817f790>\u001b[0m in \u001b[0;36m<module>\u001b[0;34m\u001b[0m\n\u001b[0;32m----> 1\u001b[0;31m splt.scatter(xs, ys, c=np.sqrt(xs**2 + ys**2),\n\u001b[0m\u001b[1;32m      2\u001b[0m              \u001b[0mfig\u001b[0m\u001b[0;34m=\u001b[0m\u001b[0;34m'new'\u001b[0m\u001b[0;34m,\u001b[0m \u001b[0mfigsize\u001b[0m\u001b[0;34m=\u001b[0m\u001b[0;34m(\u001b[0m\u001b[0;36m10\u001b[0m\u001b[0;34m,\u001b[0m \u001b[0;36m10\u001b[0m\u001b[0;34m)\u001b[0m\u001b[0;34m,\u001b[0m\u001b[0;34m\u001b[0m\u001b[0;34m\u001b[0m\u001b[0m\n\u001b[1;32m      3\u001b[0m              \u001b[0msidehists\u001b[0m\u001b[0;34m=\u001b[0m\u001b[0;32mTrue\u001b[0m\u001b[0;34m,\u001b[0m \u001b[0mshtype\u001b[0m\u001b[0;34m=\u001b[0m\u001b[0;34m'stepfilled'\u001b[0m\u001b[0;34m,\u001b[0m\u001b[0;34m\u001b[0m\u001b[0;34m\u001b[0m\u001b[0m\n\u001b[1;32m      4\u001b[0m              \u001b[0msuptitle\u001b[0m\u001b[0;34m=\u001b[0m\u001b[0;34m(\u001b[0m\u001b[0;34m'With Side Histograms'\u001b[0m\u001b[0;34m,\u001b[0m \u001b[0;34m{\u001b[0m\u001b[0;34m'fontsize'\u001b[0m\u001b[0;34m:\u001b[0m \u001b[0;36m20\u001b[0m\u001b[0;34m}\u001b[0m\u001b[0;34m)\u001b[0m\u001b[0;34m,\u001b[0m\u001b[0;34m\u001b[0m\u001b[0;34m\u001b[0m\u001b[0m\n\u001b[1;32m      5\u001b[0m              tight_layout={'rect': [0, 0, 1, .95]})\n",
      "\u001b[0;31mNameError\u001b[0m: name 'xs' is not defined"
     ]
    }
   ],
   "source": [
    "splt.scatter(xs, ys, c=np.sqrt(xs**2 + ys**2),\n",
    "             fig='new', figsize=(10, 10),\n",
    "             sidehists=True, shtype='stepfilled',\n",
    "             suptitle=('With Side Histograms', {'fontsize': 20}),\n",
    "             tight_layout={'rect': [0, 0, 1, .95]})"
   ]
  },
  {
   "cell_type": "markdown",
   "metadata": {
    "ExecuteTime": {
     "end_time": "2019-03-21T00:28:36.692348Z",
     "start_time": "2019-03-21T00:28:36.652877Z"
    }
   },
   "source": [
    "There are a variety of planned features.\n",
    "Right now only one object in the plot may have side histograms. I plan to fix this so that there can be multiple side histograms"
   ]
  },
  {
   "cell_type": "markdown",
   "metadata": {},
   "source": [
    "<br><br>\n",
    "\n",
    "---\n",
    "\n",
    "<br><br>\n",
    "\n",
    "\n",
    "# Decorators"
   ]
  },
  {
   "cell_type": "markdown",
   "metadata": {},
   "source": [
    "When making a series of new figures / axes, setting all the plot options each time can be rather verbose. `starkplot` offers powerful options to make repeated plots simpler.\n",
    "\n",
    "The paradigm of *starkplot* is decorators. All the previously demonstrated capabilities of `splt` come from decorating `pyplot` functions with `mpl_decorator`.\n",
    "\n",
    "`mpl_decorator` is available for creating plotting functions and presetting many plot options."
   ]
  },
  {
   "cell_type": "code",
   "execution_count": 6,
   "metadata": {
    "ExecuteTime": {
     "end_time": "2019-04-28T01:27:51.047540Z",
     "start_time": "2019-04-28T01:27:51.039902Z"
    }
   },
   "outputs": [
    {
     "ename": "NameError",
     "evalue": "name 'mpl_decorator' is not defined",
     "output_type": "error",
     "traceback": [
      "\u001b[0;31m---------------------------------------------------------------------------\u001b[0m",
      "\u001b[0;31mNameError\u001b[0m                                 Traceback (most recent call last)",
      "\u001b[0;32m<ipython-input-6-0a7c8b80d577>\u001b[0m in \u001b[0;36m<module>\u001b[0;34m\u001b[0m\n\u001b[0;32m----> 1\u001b[0;31m @mpl_decorator(fig='new', title='untitled', xlabel='x', ylabel='y',\n\u001b[0m\u001b[1;32m      2\u001b[0m                xkw={'fontsize': 10})  # <- these are defaults\n\u001b[1;32m      3\u001b[0m \u001b[0;32mdef\u001b[0m \u001b[0mmyplot\u001b[0m\u001b[0;34m(\u001b[0m\u001b[0mx\u001b[0m\u001b[0;34m,\u001b[0m \u001b[0my\u001b[0m\u001b[0;34m)\u001b[0m\u001b[0;34m:\u001b[0m  \u001b[0;31m# <- alway's need **kw\u001b[0m\u001b[0;34m\u001b[0m\u001b[0;34m\u001b[0m\u001b[0m\n\u001b[1;32m      4\u001b[0m     \u001b[0mim\u001b[0m \u001b[0;34m=\u001b[0m \u001b[0mplt\u001b[0m\u001b[0;34m.\u001b[0m\u001b[0mscatter\u001b[0m\u001b[0;34m(\u001b[0m\u001b[0mx\u001b[0m\u001b[0;34m,\u001b[0m \u001b[0my\u001b[0m\u001b[0;34m)\u001b[0m\u001b[0;34m\u001b[0m\u001b[0;34m\u001b[0m\u001b[0m\n\u001b[1;32m      5\u001b[0m     \u001b[0mplt\u001b[0m\u001b[0;34m.\u001b[0m\u001b[0mscatter\u001b[0m\u001b[0;34m(\u001b[0m\u001b[0;34m-\u001b[0m\u001b[0mx\u001b[0m \u001b[0;34m+\u001b[0m \u001b[0;36m6\u001b[0m\u001b[0;34m,\u001b[0m \u001b[0my\u001b[0m\u001b[0;34m)\u001b[0m\u001b[0;34m\u001b[0m\u001b[0;34m\u001b[0m\u001b[0m\n",
      "\u001b[0;31mNameError\u001b[0m: name 'mpl_decorator' is not defined"
     ]
    }
   ],
   "source": [
    "@mpl_decorator(fig='new', title='untitled', xlabel='x', ylabel='y',\n",
    "               xkw={'fontsize': 10})  # <- these are defaults\n",
    "def myplot(x, y):  # <- alway's need **kw\n",
    "    im = plt.scatter(x, y)\n",
    "    plt.scatter(-x + 6, y)\n",
    "    return im  # <- for making colorbars and side histograms\n",
    "\n",
    "# calling\n",
    "myplot(xs, ys, title='plot1')  # <- options can be passed here & override the defaults"
   ]
  },
  {
   "cell_type": "code",
   "execution_count": null,
   "metadata": {
    "ExecuteTime": {
     "end_time": "2019-04-28T01:27:51.049365Z",
     "start_time": "2019-04-28T01:27:51.041Z"
    }
   },
   "outputs": [],
   "source": [
    "@mpl_decorator(fig='new', title='untitled', xlabel='x', ylabel='y',\n",
    "               xkw={'fontsize': 10})  # <- these are defaults\n",
    "def myplot(x, y):  # <- alway's need **kw\n",
    "    im = plt.scatter(x, y)\n",
    "    plt.scatter(-x + 6, y)\n",
    "    return im  # <- for making colorbars and side histograms\n",
    "\n",
    "# calling\n",
    "myplot(xs, ys, title='plot1')  # <- options can be passed here & override the defaults"
   ]
  },
  {
   "cell_type": "markdown",
   "metadata": {},
   "source": [
    "In case even using this decorator syntax is repetitive, new decorators with preset options can be constructed using `MatplotlibDecorator`."
   ]
  },
  {
   "cell_type": "code",
   "execution_count": 7,
   "metadata": {
    "ExecuteTime": {
     "end_time": "2019-04-28T01:27:51.716134Z",
     "start_time": "2019-04-28T01:27:51.707014Z"
    },
    "scrolled": false
   },
   "outputs": [
    {
     "ename": "NameError",
     "evalue": "name 'MatplotlibDecorator' is not defined",
     "output_type": "error",
     "traceback": [
      "\u001b[0;31m---------------------------------------------------------------------------\u001b[0m",
      "\u001b[0;31mNameError\u001b[0m                                 Traceback (most recent call last)",
      "\u001b[0;32m<ipython-input-7-e912d90443ae>\u001b[0m in \u001b[0;36m<module>\u001b[0;34m\u001b[0m\n\u001b[1;32m      1\u001b[0m \u001b[0;31m# making new decorator\u001b[0m\u001b[0;34m\u001b[0m\u001b[0;34m\u001b[0m\u001b[0;34m\u001b[0m\u001b[0m\n\u001b[0;32m----> 2\u001b[0;31m new_decorator = MatplotlibDecorator(fig='new', invert_axis='xyz',\n\u001b[0m\u001b[1;32m      3\u001b[0m                                     \u001b[0mxlabel\u001b[0m\u001b[0;34m=\u001b[0m\u001b[0;34m'x'\u001b[0m\u001b[0;34m,\u001b[0m\u001b[0;34m\u001b[0m\u001b[0;34m\u001b[0m\u001b[0m\n\u001b[1;32m      4\u001b[0m                                     xlim=(0, 10), title='default title')\n\u001b[1;32m      5\u001b[0m \u001b[0;34m\u001b[0m\u001b[0m\n",
      "\u001b[0;31mNameError\u001b[0m: name 'MatplotlibDecorator' is not defined"
     ]
    }
   ],
   "source": [
    "# making new decorator\n",
    "new_decorator = MatplotlibDecorator(fig='new', invert_axis='xyz',\n",
    "                                    xlabel='x',\n",
    "                                    xlim=(0, 10), title='default title')\n",
    "\n",
    "@new_decorator  # <- using new decorator\n",
    "def myplot2(x, y, **kw):\n",
    "    im = plt.scatter(x, y)\n",
    "    plt.scatter(-x + 6, y)\n",
    "    return im  # <- for making colorbars and side histograms\n",
    "\n",
    "# calling\n",
    "myplot2(xs, ys, title='plot2')  # <- options can be passed here & override the defaults\n",
    "\n",
    "@new_decorator(title='new default title', xlim=None)  # <- overriding properties\n",
    "def myplot3(x, y, **kw):\n",
    "    im = plt.scatter(x, y)\n",
    "    plt.scatter(-x + 6, y)\n",
    "    return im  # <- for making colorbars and side histograms\n",
    "\n",
    "myplot3(xs, ys)  # <- options can be passed here & override the defaults"
   ]
  },
  {
   "cell_type": "markdown",
   "metadata": {},
   "source": [
    "## Documentation\n",
    "\n",
    "decorators have a lot of documentation. Newly constructed decorators, with different defaults, will have appropriately modified documentations.\n",
    "\n",
    "For instance, `new_decorator` has a different default title than `mpl_decorator`. This can be seen below."
   ]
  },
  {
   "cell_type": "code",
   "execution_count": 8,
   "metadata": {
    "ExecuteTime": {
     "end_time": "2019-04-28T01:27:52.379651Z",
     "start_time": "2019-04-28T01:27:52.373692Z"
    },
    "scrolled": true
   },
   "outputs": [
    {
     "ename": "NameError",
     "evalue": "name 'mpl_decorator' is not defined",
     "output_type": "error",
     "traceback": [
      "\u001b[0;31m---------------------------------------------------------------------------\u001b[0m",
      "\u001b[0;31mNameError\u001b[0m                                 Traceback (most recent call last)",
      "\u001b[0;32m<ipython-input-8-2e26ec4ef927>\u001b[0m in \u001b[0;36m<module>\u001b[0;34m\u001b[0m\n\u001b[0;32m----> 1\u001b[0;31m \u001b[0mprint\u001b[0m\u001b[0;34m(\u001b[0m\u001b[0mhelp\u001b[0m\u001b[0;34m(\u001b[0m\u001b[0mmpl_decorator\u001b[0m\u001b[0;34m)\u001b[0m\u001b[0;34m)\u001b[0m\u001b[0;34m\u001b[0m\u001b[0;34m\u001b[0m\u001b[0m\n\u001b[0m",
      "\u001b[0;31mNameError\u001b[0m: name 'mpl_decorator' is not defined"
     ]
    }
   ],
   "source": [
    "print(help(mpl_decorator))"
   ]
  },
  {
   "cell_type": "code",
   "execution_count": null,
   "metadata": {
    "ExecuteTime": {
     "end_time": "2019-04-28T01:27:52.381439Z",
     "start_time": "2019-04-28T01:27:52.375Z"
    }
   },
   "outputs": [],
   "source": [
    "print(help(new_decorator))"
   ]
  },
  {
   "cell_type": "code",
   "execution_count": 9,
   "metadata": {
    "ExecuteTime": {
     "end_time": "2019-04-28T01:27:52.492672Z",
     "start_time": "2019-04-28T01:27:52.486274Z"
    }
   },
   "outputs": [],
   "source": [
    "import decorator\n",
    "# decorator.contextmanager\n",
    "\n",
    "\n",
    "@decorator.contextmanager\n",
    "def protem_figure(*args, **kw):\n",
    "    # BEFORE\n",
    "    # store old fig\n",
    "    oldfig = plt.gcf().number\n",
    "    # make new figure\n",
    "    plt.figure(*args, **kw)\n",
    "    \n",
    "    yield  # DURING\n",
    "    \n",
    "    # AFTER\n",
    "    # restore old figure\n",
    "    plt.figure(oldfig)\n",
    "    \n",
    "def decorator_apply(dec, func):\n",
    "    \"\"\"\n",
    "    Decorate a function by preserving the signature even if dec\n",
    "    is not a signature-preserving decorator.\n",
    "    \"\"\"\n",
    "    return FunctionMaker.create(\n",
    "        func, 'return decfunc(%(signature)s)',\n",
    "        dict(decfunc=dec(func)), __wrapped__=func)\n",
    "\n",
    "\n",
    "from matplotlib.cbook import dedent\n",
    "\n",
    "def wrap_function_keep_orig_sign(func, sub_func,\n",
    "                                 doc_pre=None, doc_post=None,\n",
    "                                 defaults=None, module=None, addsource=True,\n",
    "                                 **attrs):\n",
    "    \"\"\"helper for decorator.FunctionMaker.create\n",
    "    \n",
    "    takes a function and the main function and makes a \n",
    "    new wrapped function which has the signature of the sub_function\n",
    "    doc_pre/post allow the sub_func to have it's prefix pre/appended\n",
    "    \"\"\"\n",
    "    doc = (doc_pre or '') + (dedent(sub_func.__doc__) or '') + (doc_post or '')\n",
    "    \n",
    "    return decorator.FunctionMaker.create(\n",
    "        func, 'return f(%(signature)s)', dict(f=sub_func), doc=doc,\n",
    "        __wrapped__=sub_func,\n",
    "        defaults=defaults, module=module, addsource=addsource, **attrs)\n",
    "# /def\n",
    "        \n",
    "    \n",
    "    "
   ]
  },
  {
   "cell_type": "code",
   "execution_count": 10,
   "metadata": {
    "ExecuteTime": {
     "end_time": "2019-04-28T01:27:52.512904Z",
     "start_time": "2019-04-28T01:27:52.493914Z"
    }
   },
   "outputs": [],
   "source": [
    "# figure = decorator.FunctionMaker.create(\n",
    "#     protem_figure,\n",
    "#     'return f(%(signature)s)', \n",
    "#     dict(f=plt.figure), doc=plt.figure.__doc__,\n",
    "#     __wrapped__=plt.figure, testattr=22)\n",
    "\n",
    "figure = wrap_function_keep_orig_sign(\n",
    "    protem_figure, plt.figure,\n",
    "    doc_pre='\\rModified pyplot.figure to be `with` enabled\\n------\\n')\n",
    "\n",
    "figure?\n",
    "\n",
    "# figure.testattr"
   ]
  },
  {
   "cell_type": "code",
   "execution_count": 11,
   "metadata": {
    "ExecuteTime": {
     "end_time": "2019-04-28T01:27:52.521377Z",
     "start_time": "2019-04-28T01:27:52.514152Z"
    }
   },
   "outputs": [
    {
     "data": {
      "text/plain": [
       "1"
      ]
     },
     "execution_count": 11,
     "metadata": {},
     "output_type": "execute_result"
    },
    {
     "data": {
      "text/plain": [
       "<Figure size 432x288 with 0 Axes>"
      ]
     },
     "metadata": {},
     "output_type": "display_data"
    }
   ],
   "source": [
    "fig = figure()\n",
    "fig.number"
   ]
  },
  {
   "cell_type": "code",
   "execution_count": 12,
   "metadata": {
    "ExecuteTime": {
     "end_time": "2019-04-28T01:27:52.525804Z",
     "start_time": "2019-04-28T01:27:52.522596Z"
    }
   },
   "outputs": [
    {
     "data": {
      "text/plain": [
       "(None, None, None, None, None, True, matplotlib.figure.Figure, False)"
      ]
     },
     "execution_count": 12,
     "metadata": {},
     "output_type": "execute_result"
    }
   ],
   "source": [
    "import inspect\n",
    "inspect.getfullargspec(plt.figure).defaults"
   ]
  },
  {
   "cell_type": "code",
   "execution_count": null,
   "metadata": {},
   "outputs": [],
   "source": []
  }
 ],
 "metadata": {
  "hide_input": false,
  "kernel_info": {
   "name": "python3"
  },
  "kernelspec": {
   "display_name": "Python 3",
   "language": "python",
   "name": "python3"
  },
  "language_info": {
   "codemirror_mode": {
    "name": "ipython",
    "version": 3
   },
   "file_extension": ".py",
   "mimetype": "text/x-python",
   "name": "python",
   "nbconvert_exporter": "python",
   "pygments_lexer": "ipython3",
   "version": "3.7.1"
  },
  "latex_envs": {
   "LaTeX_envs_menu_present": true,
   "autoclose": true,
   "autocomplete": false,
   "bibliofile": "biblio.bib",
   "cite_by": "apalike",
   "current_citInitial": 1,
   "eqLabelWithNumbers": true,
   "eqNumInitial": 1,
   "hotkeys": {
    "equation": "Ctrl-E",
    "itemize": "Ctrl-I"
   },
   "labels_anchors": false,
   "latex_user_defs": false,
   "report_style_numbering": false,
   "user_envs_cfg": true
  },
  "nteract": {
   "version": "0.12.3"
  },
  "toc": {
   "base_numbering": 1,
   "nav_menu": {},
   "number_sections": true,
   "sideBar": true,
   "skip_h1_title": false,
   "title_cell": "Table of Contents",
   "title_sidebar": "Contents",
   "toc_cell": true,
   "toc_position": {
    "height": "calc(100% - 180px)",
    "left": "10px",
    "top": "150px",
    "width": "165px"
   },
   "toc_section_display": true,
   "toc_window_display": true
  },
  "varInspector": {
   "cols": {
    "lenName": 16,
    "lenType": 16,
    "lenVar": 40
   },
   "kernels_config": {
    "python": {
     "delete_cmd_postfix": "",
     "delete_cmd_prefix": "del ",
     "library": "var_list.py",
     "varRefreshCmd": "print(var_dic_list())"
    },
    "r": {
     "delete_cmd_postfix": ") ",
     "delete_cmd_prefix": "rm(",
     "library": "var_list.r",
     "varRefreshCmd": "cat(var_dic_list()) "
    }
   },
   "types_to_exclude": [
    "module",
    "function",
    "builtin_function_or_method",
    "instance",
    "_Feature"
   ],
   "window_display": false
  }
 },
 "nbformat": 4,
 "nbformat_minor": 2
}

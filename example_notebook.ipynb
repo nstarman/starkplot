{
  "cells": [
    {
      "cell_type": "markdown",
      "source": [
        "<h1>Table of Contents<span class=\"tocSkip\"></span></h1>\n",
        "<div class=\"toc\"><ul class=\"toc-item\"><li><ul class=\"toc-item\"><li><span><a href=\"#Initializing\" data-toc-modified-id=\"Initializing-0.1\"><span class=\"toc-item-num\">0.1&nbsp;&nbsp;</span>Initializing</a></span></li></ul></li><li><span><a href=\"#splt\" data-toc-modified-id=\"splt-1\"><span class=\"toc-item-num\">1&nbsp;&nbsp;</span><code>splt</code></a></span><ul class=\"toc-item\"><li><span><a href=\"#Help:\" data-toc-modified-id=\"Help:-1.1\"><span class=\"toc-item-num\">1.1&nbsp;&nbsp;</span>Help:</a></span></li><li><span><a href=\"#Documentation\" data-toc-modified-id=\"Documentation-1.2\"><span class=\"toc-item-num\">1.2&nbsp;&nbsp;</span>Documentation</a></span></li><li><span><a href=\"#Examples\" data-toc-modified-id=\"Examples-1.3\"><span class=\"toc-item-num\">1.3&nbsp;&nbsp;</span>Examples</a></span><ul class=\"toc-item\"><li><span><a href=\"#Simple\" data-toc-modified-id=\"Simple-1.3.1\"><span class=\"toc-item-num\">1.3.1&nbsp;&nbsp;</span>Simple</a></span></li><li><span><a href=\"#Playing-With-Figures\" data-toc-modified-id=\"Playing-With-Figures-1.3.2\"><span class=\"toc-item-num\">1.3.2&nbsp;&nbsp;</span>Playing With Figures</a></span></li><li><span><a href=\"#Playing-with-Axes\" data-toc-modified-id=\"Playing-with-Axes-1.3.3\"><span class=\"toc-item-num\">1.3.3&nbsp;&nbsp;</span>Playing with Axes</a></span></li><li><span><a href=\"#Colorbars\" data-toc-modified-id=\"Colorbars-1.3.4\"><span class=\"toc-item-num\">1.3.4&nbsp;&nbsp;</span>Colorbars</a></span></li><li><span><a href=\"#Side-Histograms\" data-toc-modified-id=\"Side-Histograms-1.3.5\"><span class=\"toc-item-num\">1.3.5&nbsp;&nbsp;</span>Side Histograms</a></span></li></ul></li></ul></li><li><span><a href=\"#Decorators\" data-toc-modified-id=\"Decorators-2\"><span class=\"toc-item-num\">2&nbsp;&nbsp;</span>Decorators</a></span><ul class=\"toc-item\"><li><span><a href=\"#Documentation\" data-toc-modified-id=\"Documentation-2.1\"><span class=\"toc-item-num\">2.1&nbsp;&nbsp;</span>Documentation</a></span></li></ul></li></ul></div>"
      ],
      "metadata": {
        "toc": true
      }
    },
    {
      "cell_type": "markdown",
      "source": [
        "## Initializing"
      ],
      "metadata": {}
    },
    {
      "cell_type": "code",
      "source": [
        "import numpy as np\n",
        "import matplotlib.pyplot as plt\n",
        "\n",
        "from matplotlib import pylab\n",
        "pylab.rcParams['figure.figsize'] = (5, 3)\n",
        "\n",
        "import sys; sys.path.insert(0, '')\n",
        "import starkplot as splt\n",
        "from starkplot import mpl_decorator, MatplotlibDecorator"
      ],
      "outputs": [
        {
          "output_type": "error",
          "ename": "ModuleNotFoundError",
          "evalue": "No module named 'starkplot.decorators.mpldecorator_src'",
          "traceback": [
            "\u001b[0;31m---------------------------------------------------------------------------\u001b[0m",
            "\u001b[0;31mModuleNotFoundError\u001b[0m                       Traceback (most recent call last)",
            "\u001b[0;32m<ipython-input-1-921b7d71df27>\u001b[0m in \u001b[0;36m<module>\u001b[0;34m\u001b[0m\n\u001b[1;32m      6\u001b[0m \u001b[0;34m\u001b[0m\u001b[0m\n\u001b[1;32m      7\u001b[0m \u001b[0;32mimport\u001b[0m \u001b[0msys\u001b[0m\u001b[0;34m;\u001b[0m \u001b[0msys\u001b[0m\u001b[0;34m.\u001b[0m\u001b[0mpath\u001b[0m\u001b[0;34m.\u001b[0m\u001b[0minsert\u001b[0m\u001b[0;34m(\u001b[0m\u001b[0;36m0\u001b[0m\u001b[0;34m,\u001b[0m \u001b[0;34m''\u001b[0m\u001b[0;34m)\u001b[0m\u001b[0;34m\u001b[0m\u001b[0;34m\u001b[0m\u001b[0m\n\u001b[0;32m----> 8\u001b[0;31m \u001b[0;32mimport\u001b[0m \u001b[0mstarkplot\u001b[0m \u001b[0;32mas\u001b[0m \u001b[0msplt\u001b[0m\u001b[0;34m\u001b[0m\u001b[0;34m\u001b[0m\u001b[0m\n\u001b[0m\u001b[1;32m      9\u001b[0m \u001b[0;31m# from .starkplot import mpl_decorator, MatplotlibDecorator\u001b[0m\u001b[0;34m\u001b[0m\u001b[0;34m\u001b[0m\u001b[0;34m\u001b[0m\u001b[0m\n",
            "\u001b[0;32m~/src/starkplot/starkplot/__init__.py\u001b[0m in \u001b[0;36m<module>\u001b[0;34m\u001b[0m\n\u001b[1;32m     43\u001b[0m \u001b[0;32mfrom\u001b[0m \u001b[0;34m.\u001b[0m\u001b[0mplot\u001b[0m \u001b[0;32mimport\u001b[0m \u001b[0;34m*\u001b[0m\u001b[0;34m\u001b[0m\u001b[0;34m\u001b[0m\u001b[0m\n\u001b[1;32m     44\u001b[0m \u001b[0;34m\u001b[0m\u001b[0m\n\u001b[0;32m---> 45\u001b[0;31m \u001b[0;32mfrom\u001b[0m \u001b[0;34m.\u001b[0m\u001b[0mdecorators\u001b[0m\u001b[0;34m.\u001b[0m\u001b[0mmpldecorator_src\u001b[0m \u001b[0;32mimport\u001b[0m \u001b[0mmpl_decorator\u001b[0m\u001b[0;34m\u001b[0m\u001b[0;34m\u001b[0m\u001b[0m\n\u001b[0m\u001b[1;32m     46\u001b[0m \u001b[0;32mfrom\u001b[0m \u001b[0;34m.\u001b[0m\u001b[0mdecorators\u001b[0m\u001b[0;34m.\u001b[0m\u001b[0mmpldecorator_src\u001b[0m \u001b[0;32mimport\u001b[0m \u001b[0mMatplotlibDecorator\u001b[0m\u001b[0;34m\u001b[0m\u001b[0;34m\u001b[0m\u001b[0m\n\u001b[1;32m     47\u001b[0m \u001b[0;34m\u001b[0m\u001b[0m\n",
            "\u001b[0;31mModuleNotFoundError\u001b[0m: No module named 'starkplot.decorators.mpldecorator_src'"
          ]
        }
      ],
      "execution_count": 1,
      "metadata": {
        "ExecuteTime": {
          "end_time": "2019-03-23T05:29:14.592246Z",
          "start_time": "2019-03-23T05:29:13.214192Z"
        }
      }
    },
    {
      "cell_type": "code",
      "source": [
        "rand = np.random.RandomState(0)  # constant random numbers\n",
        "\n",
        "# lines\n",
        "xl = np.linspace(0, 2 * np.pi, 100)\n",
        "yl = 2 * np.sin(xl) + np.pi\n",
        "\n",
        "# scatter\n",
        "xs, ys = rand.rand(2, 100) * 2 * np.pi"
      ],
      "outputs": [],
      "execution_count": 2,
      "metadata": {
        "ExecuteTime": {
          "end_time": "2019-03-23T05:29:14.596823Z",
          "start_time": "2019-03-23T05:29:14.593863Z"
        }
      }
    },
    {
      "cell_type": "markdown",
      "source": [
        "# `splt`\n",
        "\n",
        "`splt` is a wrapper around `pyplot`. Most of the functions in `pyplot` are supported, with many extra options.\n",
        "\nThese extra options are accessed via **key-word arguments** to the wrapped functions."
      ],
      "metadata": {}
    },
    {
      "cell_type": "markdown",
      "source": [
        "## Help:\n",
        "\nMany of the these extra options are / will be documented in `splt.plot_help`."
      ],
      "metadata": {}
    },
    {
      "cell_type": "code",
      "source": [
        "splt.plot_help()"
      ],
      "outputs": [
        {
          "output_type": "error",
          "ename": "NameError",
          "evalue": "name 'splt' is not defined",
          "traceback": [
            "\u001b[0;31m---------------------------------------------------------------------------\u001b[0m",
            "\u001b[0;31mNameError\u001b[0m                                 Traceback (most recent call last)",
            "\u001b[0;32m<ipython-input-3-59b7b3c6ddaa>\u001b[0m in \u001b[0;36m<module>\u001b[0;34m\u001b[0m\n\u001b[0;32m----> 1\u001b[0;31m \u001b[0msplt\u001b[0m\u001b[0;34m.\u001b[0m\u001b[0mplot_help\u001b[0m\u001b[0;34m(\u001b[0m\u001b[0;34m)\u001b[0m\u001b[0;34m\u001b[0m\u001b[0;34m\u001b[0m\u001b[0m\n\u001b[0m",
            "\u001b[0;31mNameError\u001b[0m: name 'splt' is not defined"
          ]
        }
      ],
      "execution_count": 3,
      "metadata": {
        "ExecuteTime": {
          "end_time": "2019-03-23T05:29:14.600539Z",
          "start_time": "2019-03-23T05:29:14.598115Z"
        }
      }
    },
    {
      "cell_type": "markdown",
      "source": [
        "## Documentation\n",
        "\n`splt` maintains all the documentation of the function it wraps and also provides all the documentation for the extra options starkplot adds."
      ],
      "metadata": {}
    },
    {
      "cell_type": "code",
      "source": [
        "print(help(splt.scatter))"
      ],
      "outputs": [
        {
          "output_type": "error",
          "ename": "NameError",
          "evalue": "name 'splt' is not defined",
          "traceback": [
            "\u001b[0;31m---------------------------------------------------------------------------\u001b[0m",
            "\u001b[0;31mNameError\u001b[0m                                 Traceback (most recent call last)",
            "\u001b[0;32m<ipython-input-4-3c97dff7995d>\u001b[0m in \u001b[0;36m<module>\u001b[0;34m\u001b[0m\n\u001b[0;32m----> 1\u001b[0;31m \u001b[0mprint\u001b[0m\u001b[0;34m(\u001b[0m\u001b[0mhelp\u001b[0m\u001b[0;34m(\u001b[0m\u001b[0msplt\u001b[0m\u001b[0;34m.\u001b[0m\u001b[0mscatter\u001b[0m\u001b[0;34m)\u001b[0m\u001b[0;34m)\u001b[0m\u001b[0;34m\u001b[0m\u001b[0;34m\u001b[0m\u001b[0m\n\u001b[0m",
            "\u001b[0;31mNameError\u001b[0m: name 'splt' is not defined"
          ]
        }
      ],
      "execution_count": 4,
      "metadata": {
        "ExecuteTime": {
          "end_time": "2019-03-23T05:29:14.605903Z",
          "start_time": "2019-03-23T05:29:14.602353Z"
        },
        "scrolled": true
      }
    },
    {
      "cell_type": "markdown",
      "source": [
        "## Examples"
      ],
      "metadata": {}
    },
    {
      "cell_type": "markdown",
      "source": [
        "### Simple\n",
        "\nJust showing that all starkplot-wrapped functions support their usual inputs"
      ],
      "metadata": {}
    },
    {
      "cell_type": "code",
      "source": [
        "splt.plot(xl, yl, ls='-.', lw=5, c='g')"
      ],
      "outputs": [
        {
          "output_type": "error",
          "ename": "NameError",
          "evalue": "name 'splt' is not defined",
          "traceback": [
            "\u001b[0;31m---------------------------------------------------------------------------\u001b[0m",
            "\u001b[0;31mNameError\u001b[0m                                 Traceback (most recent call last)",
            "\u001b[0;32m<ipython-input-5-d649187a7c7a>\u001b[0m in \u001b[0;36m<module>\u001b[0;34m\u001b[0m\n\u001b[0;32m----> 1\u001b[0;31m \u001b[0msplt\u001b[0m\u001b[0;34m.\u001b[0m\u001b[0mplot\u001b[0m\u001b[0;34m(\u001b[0m\u001b[0mxl\u001b[0m\u001b[0;34m,\u001b[0m \u001b[0myl\u001b[0m\u001b[0;34m,\u001b[0m \u001b[0mls\u001b[0m\u001b[0;34m=\u001b[0m\u001b[0;34m'-.'\u001b[0m\u001b[0;34m,\u001b[0m \u001b[0mlw\u001b[0m\u001b[0;34m=\u001b[0m\u001b[0;36m5\u001b[0m\u001b[0;34m,\u001b[0m \u001b[0mc\u001b[0m\u001b[0;34m=\u001b[0m\u001b[0;34m'g'\u001b[0m\u001b[0;34m)\u001b[0m\u001b[0;34m\u001b[0m\u001b[0;34m\u001b[0m\u001b[0m\n\u001b[0m",
            "\u001b[0;31mNameError\u001b[0m: name 'splt' is not defined"
          ]
        }
      ],
      "execution_count": 5,
      "metadata": {
        "ExecuteTime": {
          "end_time": "2019-03-23T05:29:14.877500Z",
          "start_time": "2019-03-23T05:29:14.767870Z"
        }
      }
    },
    {
      "cell_type": "code",
      "source": [
        "splt.scatter(xs, ys, c=np.sqrt(xs**2 + ys**2), alpha=.98)"
      ],
      "outputs": [
        {
          "output_type": "error",
          "ename": "NameError",
          "evalue": "name 'splt' is not defined",
          "traceback": [
            "\u001b[0;31m---------------------------------------------------------------------------\u001b[0m",
            "\u001b[0;31mNameError\u001b[0m                                 Traceback (most recent call last)",
            "\u001b[0;32m<ipython-input-6-90e078b1a646>\u001b[0m in \u001b[0;36m<module>\u001b[0;34m\u001b[0m\n\u001b[0;32m----> 1\u001b[0;31m \u001b[0msplt\u001b[0m\u001b[0;34m.\u001b[0m\u001b[0mscatter\u001b[0m\u001b[0;34m(\u001b[0m\u001b[0mxs\u001b[0m\u001b[0;34m,\u001b[0m \u001b[0mys\u001b[0m\u001b[0;34m,\u001b[0m \u001b[0mc\u001b[0m\u001b[0;34m=\u001b[0m\u001b[0mnp\u001b[0m\u001b[0;34m.\u001b[0m\u001b[0msqrt\u001b[0m\u001b[0;34m(\u001b[0m\u001b[0mxs\u001b[0m\u001b[0;34m**\u001b[0m\u001b[0;36m2\u001b[0m \u001b[0;34m+\u001b[0m \u001b[0mys\u001b[0m\u001b[0;34m**\u001b[0m\u001b[0;36m2\u001b[0m\u001b[0;34m)\u001b[0m\u001b[0;34m,\u001b[0m \u001b[0malpha\u001b[0m\u001b[0;34m=\u001b[0m\u001b[0;36m.98\u001b[0m\u001b[0;34m)\u001b[0m\u001b[0;34m\u001b[0m\u001b[0;34m\u001b[0m\u001b[0m\n\u001b[0m",
            "\u001b[0;31mNameError\u001b[0m: name 'splt' is not defined"
          ]
        }
      ],
      "execution_count": 6,
      "metadata": {
        "ExecuteTime": {
          "end_time": "2019-03-23T05:29:14.987351Z",
          "start_time": "2019-03-23T05:29:14.879246Z"
        }
      }
    },
    {
      "cell_type": "markdown",
      "source": [
        "<br>\n",
        "\n",
        "- - -\n",
        "\n### Playing With Figures"
      ],
      "metadata": {}
    },
    {
      "cell_type": "markdown",
      "source": [
        "The standard behavior of `pyplot` is to overplot. `starkplot` follows the same paradigm if nothing is indicated to the contrary."
      ],
      "metadata": {}
    },
    {
      "cell_type": "code",
      "source": [
        "splt.scatter(xs, ys, c='b')\n",
        "\nsplt.plot(xl, yl, ls='-.', lw=5, c='g');"
      ],
      "outputs": [
        {
          "output_type": "error",
          "ename": "NameError",
          "evalue": "name 'splt' is not defined",
          "traceback": [
            "\u001b[0;31m---------------------------------------------------------------------------\u001b[0m",
            "\u001b[0;31mNameError\u001b[0m                                 Traceback (most recent call last)",
            "\u001b[0;32m<ipython-input-7-5eefa77dfdd0>\u001b[0m in \u001b[0;36m<module>\u001b[0;34m\u001b[0m\n\u001b[0;32m----> 1\u001b[0;31m \u001b[0msplt\u001b[0m\u001b[0;34m.\u001b[0m\u001b[0mscatter\u001b[0m\u001b[0;34m(\u001b[0m\u001b[0mxs\u001b[0m\u001b[0;34m,\u001b[0m \u001b[0mys\u001b[0m\u001b[0;34m,\u001b[0m \u001b[0mc\u001b[0m\u001b[0;34m=\u001b[0m\u001b[0;34m'b'\u001b[0m\u001b[0;34m)\u001b[0m\u001b[0;34m\u001b[0m\u001b[0;34m\u001b[0m\u001b[0m\n\u001b[0m\u001b[1;32m      2\u001b[0m \u001b[0;34m\u001b[0m\u001b[0m\n\u001b[1;32m      3\u001b[0m \u001b[0msplt\u001b[0m\u001b[0;34m.\u001b[0m\u001b[0mplot\u001b[0m\u001b[0;34m(\u001b[0m\u001b[0mxl\u001b[0m\u001b[0;34m,\u001b[0m \u001b[0myl\u001b[0m\u001b[0;34m,\u001b[0m \u001b[0mls\u001b[0m\u001b[0;34m=\u001b[0m\u001b[0;34m'-.'\u001b[0m\u001b[0;34m,\u001b[0m \u001b[0mlw\u001b[0m\u001b[0;34m=\u001b[0m\u001b[0;36m5\u001b[0m\u001b[0;34m,\u001b[0m \u001b[0mc\u001b[0m\u001b[0;34m=\u001b[0m\u001b[0;34m'g'\u001b[0m\u001b[0;34m)\u001b[0m\u001b[0;34m;\u001b[0m\u001b[0;34m\u001b[0m\u001b[0;34m\u001b[0m\u001b[0m\n",
            "\u001b[0;31mNameError\u001b[0m: name 'splt' is not defined"
          ]
        }
      ],
      "execution_count": 7,
      "metadata": {
        "ExecuteTime": {
          "end_time": "2019-03-23T05:29:15.502124Z",
          "start_time": "2019-03-23T05:29:15.399802Z"
        }
      }
    },
    {
      "cell_type": "markdown",
      "source": [
        "<br>\n",
        "\nA plot may be forced to start a new figure using the `fig` argument."
      ],
      "metadata": {}
    },
    {
      "cell_type": "code",
      "source": [
        "splt.scatter(xs, ys, c='b')\n",
        "\n",
        "splt.plot(xl, yl, ls='-.', lw=5, c='g',\n",
        "          fig='new');"
      ],
      "outputs": [
        {
          "output_type": "error",
          "ename": "NameError",
          "evalue": "name 'splt' is not defined",
          "traceback": [
            "\u001b[0;31m---------------------------------------------------------------------------\u001b[0m",
            "\u001b[0;31mNameError\u001b[0m                                 Traceback (most recent call last)",
            "\u001b[0;32m<ipython-input-8-18aafffd9915>\u001b[0m in \u001b[0;36m<module>\u001b[0;34m\u001b[0m\n\u001b[0;32m----> 1\u001b[0;31m \u001b[0msplt\u001b[0m\u001b[0;34m.\u001b[0m\u001b[0mscatter\u001b[0m\u001b[0;34m(\u001b[0m\u001b[0mxs\u001b[0m\u001b[0;34m,\u001b[0m \u001b[0mys\u001b[0m\u001b[0;34m,\u001b[0m \u001b[0mc\u001b[0m\u001b[0;34m=\u001b[0m\u001b[0;34m'b'\u001b[0m\u001b[0;34m)\u001b[0m\u001b[0;34m\u001b[0m\u001b[0;34m\u001b[0m\u001b[0m\n\u001b[0m\u001b[1;32m      2\u001b[0m \u001b[0;34m\u001b[0m\u001b[0m\n\u001b[1;32m      3\u001b[0m splt.plot(xl, yl, ls='-.', lw=5, c='g',\n\u001b[1;32m      4\u001b[0m           fig='new');\n",
            "\u001b[0;31mNameError\u001b[0m: name 'splt' is not defined"
          ]
        }
      ],
      "execution_count": 8,
      "metadata": {
        "ExecuteTime": {
          "end_time": "2019-03-23T05:29:15.909024Z",
          "start_time": "2019-03-23T05:29:15.711221Z"
        }
      }
    },
    {
      "cell_type": "markdown",
      "source": [
        "if a new figure is made, then the figure size may also be specified by `figsize`"
      ],
      "metadata": {}
    },
    {
      "cell_type": "code",
      "source": [
        "# new, resized figure\n",
        "splt.plot(xl, yl, ls='-.', lw=5, c='g',\n",
        "          fig='new', figsize=(4, 4));"
      ],
      "outputs": [
        {
          "output_type": "error",
          "ename": "NameError",
          "evalue": "name 'splt' is not defined",
          "traceback": [
            "\u001b[0;31m---------------------------------------------------------------------------\u001b[0m",
            "\u001b[0;31mNameError\u001b[0m                                 Traceback (most recent call last)",
            "\u001b[0;32m<ipython-input-9-04fb24ccd5e6>\u001b[0m in \u001b[0;36m<module>\u001b[0;34m\u001b[0m\n\u001b[1;32m      1\u001b[0m \u001b[0;31m# new, resized figure\u001b[0m\u001b[0;34m\u001b[0m\u001b[0;34m\u001b[0m\u001b[0;34m\u001b[0m\u001b[0m\n\u001b[0;32m----> 2\u001b[0;31m splt.plot(xl, yl, ls='-.', lw=5, c='g',\n\u001b[0m\u001b[1;32m      3\u001b[0m           fig='new', figsize=(4, 4));\n",
            "\u001b[0;31mNameError\u001b[0m: name 'splt' is not defined"
          ]
        }
      ],
      "execution_count": 9,
      "metadata": {
        "ExecuteTime": {
          "end_time": "2019-03-23T05:29:16.122071Z",
          "start_time": "2019-03-23T05:29:16.024520Z"
        }
      }
    },
    {
      "cell_type": "markdown",
      "source": [
        "if an old figure is being used, than the figure size may still be overridden by invoking `overridefig`"
      ],
      "metadata": {}
    },
    {
      "cell_type": "code",
      "source": [
        "splt.plot(xl, yl, ls='-.', lw=5, c='g',\n",
        "          figsize=(11, 4), overridefig=True);"
      ],
      "outputs": [
        {
          "output_type": "error",
          "ename": "NameError",
          "evalue": "name 'splt' is not defined",
          "traceback": [
            "\u001b[0;31m---------------------------------------------------------------------------\u001b[0m",
            "\u001b[0;31mNameError\u001b[0m                                 Traceback (most recent call last)",
            "\u001b[0;32m<ipython-input-10-6a7f7aafb6df>\u001b[0m in \u001b[0;36m<module>\u001b[0;34m\u001b[0m\n\u001b[0;32m----> 1\u001b[0;31m splt.plot(xl, yl, ls='-.', lw=5, c='g',\n\u001b[0m\u001b[1;32m      2\u001b[0m           figsize=(11, 4), overridefig=True);\n",
            "\u001b[0;31mNameError\u001b[0m: name 'splt' is not defined"
          ]
        }
      ],
      "execution_count": 10,
      "metadata": {
        "ExecuteTime": {
          "end_time": "2019-03-23T05:29:16.443922Z",
          "start_time": "2019-03-23T05:29:16.336267Z"
        }
      }
    },
    {
      "cell_type": "markdown",
      "source": [
        "<br>\n",
        "\n",
        "The `fig` argument can also accept a Figure, which allows for more interesting behavior.\n",
        "\n",
        "Note that passing a figure argument like this will make that figure current.\n",
        "This can be prevented using `rtcf=True` (return to current figure)."
      ],
      "metadata": {}
    },
    {
      "cell_type": "code",
      "source": [
        "splt.scatter(xs, ys, c='b')\n",
        "oldfig = splt.gcf()\n",
        "\n",
        "splt.plot(xl, yl, ls='-.', lw=5, c='g',\n",
        "          fig='new')\n",
        "print('cur fig', plt.gcf().number)\n",
        "\n",
        "splt.plot(xl, yl, ls='-.', lw=5, c='r',  # plotting on old plot\n",
        "          fig=oldfig, rtcf=True)\n",
        "\n",
        "print('cur fig', plt.gcf().number)\n",
        "\nsplt.scatter(xs, ys, c='tab:cyan', alpha=.5)"
      ],
      "outputs": [
        {
          "output_type": "error",
          "ename": "NameError",
          "evalue": "name 'splt' is not defined",
          "traceback": [
            "\u001b[0;31m---------------------------------------------------------------------------\u001b[0m",
            "\u001b[0;31mNameError\u001b[0m                                 Traceback (most recent call last)",
            "\u001b[0;32m<ipython-input-11-0a3596e95fb1>\u001b[0m in \u001b[0;36m<module>\u001b[0;34m\u001b[0m\n\u001b[0;32m----> 1\u001b[0;31m \u001b[0msplt\u001b[0m\u001b[0;34m.\u001b[0m\u001b[0mscatter\u001b[0m\u001b[0;34m(\u001b[0m\u001b[0mxs\u001b[0m\u001b[0;34m,\u001b[0m \u001b[0mys\u001b[0m\u001b[0;34m,\u001b[0m \u001b[0mc\u001b[0m\u001b[0;34m=\u001b[0m\u001b[0;34m'b'\u001b[0m\u001b[0;34m)\u001b[0m\u001b[0;34m\u001b[0m\u001b[0;34m\u001b[0m\u001b[0m\n\u001b[0m\u001b[1;32m      2\u001b[0m \u001b[0moldfig\u001b[0m \u001b[0;34m=\u001b[0m \u001b[0msplt\u001b[0m\u001b[0;34m.\u001b[0m\u001b[0mgcf\u001b[0m\u001b[0;34m(\u001b[0m\u001b[0;34m)\u001b[0m\u001b[0;34m\u001b[0m\u001b[0;34m\u001b[0m\u001b[0m\n\u001b[1;32m      3\u001b[0m \u001b[0;34m\u001b[0m\u001b[0m\n\u001b[1;32m      4\u001b[0m splt.plot(xl, yl, ls='-.', lw=5, c='g',\n\u001b[1;32m      5\u001b[0m           fig='new')\n",
            "\u001b[0;31mNameError\u001b[0m: name 'splt' is not defined"
          ]
        }
      ],
      "execution_count": 11,
      "metadata": {
        "ExecuteTime": {
          "end_time": "2019-03-23T05:29:16.852075Z",
          "start_time": "2019-03-23T05:29:16.648117Z"
        }
      }
    },
    {
      "cell_type": "markdown",
      "source": [
        "<br>\n",
        "\n",
        "There are many other useful features pertaining to the figure.\n",
        "\n",
        "Easily accessible ones are:\n",
        "\n",
        "- `savefig`\n",
        "- `closefig`,\n",
        "- `tight_layout`\n",
        "- `suptitle`\n",
        "\nThey have a variety of input options, and it is worth looking at the documentation."
      ],
      "metadata": {}
    },
    {
      "cell_type": "code",
      "source": [
        "splt.scatter(xs, ys, c='b',\n",
        "             suptitle='Suptitle')\n",
        "splt.plot(xl, yl, ls='-.', lw=5, c='g',\n",
        "          tight_layout={'rect': [0, 0, 1, .95]});"
      ],
      "outputs": [
        {
          "output_type": "error",
          "ename": "NameError",
          "evalue": "name 'splt' is not defined",
          "traceback": [
            "\u001b[0;31m---------------------------------------------------------------------------\u001b[0m",
            "\u001b[0;31mNameError\u001b[0m                                 Traceback (most recent call last)",
            "\u001b[0;32m<ipython-input-12-06e8f4772caa>\u001b[0m in \u001b[0;36m<module>\u001b[0;34m\u001b[0m\n\u001b[0;32m----> 1\u001b[0;31m splt.scatter(xs, ys, c='b',\n\u001b[0m\u001b[1;32m      2\u001b[0m              suptitle='Suptitle')\n\u001b[1;32m      3\u001b[0m splt.plot(xl, yl, ls='-.', lw=5, c='g',\n\u001b[1;32m      4\u001b[0m           tight_layout={'rect': [0, 0, 1, .95]});\n",
            "\u001b[0;31mNameError\u001b[0m: name 'splt' is not defined"
          ]
        }
      ],
      "execution_count": 12,
      "metadata": {
        "ExecuteTime": {
          "end_time": "2019-03-23T05:29:17.123254Z",
          "start_time": "2019-03-23T05:29:16.970887Z"
        }
      }
    },
    {
      "cell_type": "markdown",
      "source": [
        "<br>\n",
        "\n",
        "Advanced options are held in `xkw`. With `xkw` almost any property of the plot may be set or overridden.\n",
        "\n",
        "There are a lot of details with using `xkw`, and so the documentation is important. But broadly speaking, there are three levels in the options heirarchy:\n",
        "\n",
        "1) any option specified outside of `xkw`  \n",
        "\n",
        "> ex: suptitle = ('the suptitle', {'fontsize': 20})\n",
        "\n",
        "2) a dictionary item of the same name \n",
        "\n",
        "> ex: xkw={'suptitle': {'fontsize': 20}}\n",
        "\n",
        "3) items prefixed by the same name\n",
        "\n",
        "> ex: xkw={'suptitle_fontsize': 20}\n",
        "\n\n",
        "Currently if one is provided all lower-hierarchy options are ignored.\n",
        "**HOWEVER,** I plan to instead have higher-hierarchy options instead override lower-hierarchy options. This is not yet implemented."
      ],
      "metadata": {}
    },
    {
      "cell_type": "code",
      "source": [
        "splt.scatter(xs, ys, c='b',\n",
        "             suptitle='Suptitle',\n",
        "             xkw={'fontsize': 14, 'facecolor': 'gray',\n",
        "                  'suptitle': {'fontsize': 30, 'x': '.7', 'color':'purple'}},\n",
        "             fig='new')"
      ],
      "outputs": [
        {
          "output_type": "error",
          "ename": "NameError",
          "evalue": "name 'splt' is not defined",
          "traceback": [
            "\u001b[0;31m---------------------------------------------------------------------------\u001b[0m",
            "\u001b[0;31mNameError\u001b[0m                                 Traceback (most recent call last)",
            "\u001b[0;32m<ipython-input-13-7492ba27dfac>\u001b[0m in \u001b[0;36m<module>\u001b[0;34m\u001b[0m\n\u001b[0;32m----> 1\u001b[0;31m splt.scatter(xs, ys, c='b',\n\u001b[0m\u001b[1;32m      2\u001b[0m              \u001b[0msuptitle\u001b[0m\u001b[0;34m=\u001b[0m\u001b[0;34m'Suptitle'\u001b[0m\u001b[0;34m,\u001b[0m\u001b[0;34m\u001b[0m\u001b[0;34m\u001b[0m\u001b[0m\n\u001b[1;32m      3\u001b[0m              xkw={'fontsize': 14, 'facecolor': 'gray',\n\u001b[1;32m      4\u001b[0m                   'suptitle': {'fontsize': 30, 'x': '.7', 'color':'purple'}},\n\u001b[1;32m      5\u001b[0m              fig='new')\n",
            "\u001b[0;31mNameError\u001b[0m: name 'splt' is not defined"
          ]
        }
      ],
      "execution_count": 13,
      "metadata": {
        "ExecuteTime": {
          "end_time": "2019-03-23T05:29:17.385572Z",
          "start_time": "2019-03-23T05:29:17.286025Z"
        }
      }
    },
    {
      "cell_type": "markdown",
      "source": [
        "<br><br>\n",
        "\n",
        "- - -\n",
        "\n",
        "<br><br>\n",
        "\n",
        "### Playing with Axes\n",
        "\nFigures are the least of what *starkplot* can do. Modifying axes with *starkplot* is much more rewarding."
      ],
      "metadata": {}
    },
    {
      "cell_type": "code",
      "source": [
        "splt.scatter(xs, ys, c='b', ax=121, fig='new', figsize=(10, 4))\n",
        "splt.plot(xl, yl, ls='-.', lw=5, c='r')\n",
        "\n",
        "splt.plot(xl, yl, ls='-.', lw=5, c='g', ax=122)\n",
        "splt.scatter(xs, ys, c='tab:cyan', alpha=.5)"
      ],
      "outputs": [
        {
          "output_type": "error",
          "ename": "NameError",
          "evalue": "name 'splt' is not defined",
          "traceback": [
            "\u001b[0;31m---------------------------------------------------------------------------\u001b[0m",
            "\u001b[0;31mNameError\u001b[0m                                 Traceback (most recent call last)",
            "\u001b[0;32m<ipython-input-14-c6d1abe250eb>\u001b[0m in \u001b[0;36m<module>\u001b[0;34m\u001b[0m\n\u001b[0;32m----> 1\u001b[0;31m \u001b[0msplt\u001b[0m\u001b[0;34m.\u001b[0m\u001b[0mscatter\u001b[0m\u001b[0;34m(\u001b[0m\u001b[0mxs\u001b[0m\u001b[0;34m,\u001b[0m \u001b[0mys\u001b[0m\u001b[0;34m,\u001b[0m \u001b[0mc\u001b[0m\u001b[0;34m=\u001b[0m\u001b[0;34m'b'\u001b[0m\u001b[0;34m,\u001b[0m \u001b[0max\u001b[0m\u001b[0;34m=\u001b[0m\u001b[0;36m121\u001b[0m\u001b[0;34m,\u001b[0m \u001b[0mfig\u001b[0m\u001b[0;34m=\u001b[0m\u001b[0;34m'new'\u001b[0m\u001b[0;34m,\u001b[0m \u001b[0mfigsize\u001b[0m\u001b[0;34m=\u001b[0m\u001b[0;34m(\u001b[0m\u001b[0;36m10\u001b[0m\u001b[0;34m,\u001b[0m \u001b[0;36m4\u001b[0m\u001b[0;34m)\u001b[0m\u001b[0;34m)\u001b[0m\u001b[0;34m\u001b[0m\u001b[0;34m\u001b[0m\u001b[0m\n\u001b[0m\u001b[1;32m      2\u001b[0m \u001b[0msplt\u001b[0m\u001b[0;34m.\u001b[0m\u001b[0mplot\u001b[0m\u001b[0;34m(\u001b[0m\u001b[0mxl\u001b[0m\u001b[0;34m,\u001b[0m \u001b[0myl\u001b[0m\u001b[0;34m,\u001b[0m \u001b[0mls\u001b[0m\u001b[0;34m=\u001b[0m\u001b[0;34m'-.'\u001b[0m\u001b[0;34m,\u001b[0m \u001b[0mlw\u001b[0m\u001b[0;34m=\u001b[0m\u001b[0;36m5\u001b[0m\u001b[0;34m,\u001b[0m \u001b[0mc\u001b[0m\u001b[0;34m=\u001b[0m\u001b[0;34m'r'\u001b[0m\u001b[0;34m)\u001b[0m\u001b[0;34m\u001b[0m\u001b[0;34m\u001b[0m\u001b[0m\n\u001b[1;32m      3\u001b[0m \u001b[0;34m\u001b[0m\u001b[0m\n\u001b[1;32m      4\u001b[0m \u001b[0msplt\u001b[0m\u001b[0;34m.\u001b[0m\u001b[0mplot\u001b[0m\u001b[0;34m(\u001b[0m\u001b[0mxl\u001b[0m\u001b[0;34m,\u001b[0m \u001b[0myl\u001b[0m\u001b[0;34m,\u001b[0m \u001b[0mls\u001b[0m\u001b[0;34m=\u001b[0m\u001b[0;34m'-.'\u001b[0m\u001b[0;34m,\u001b[0m \u001b[0mlw\u001b[0m\u001b[0;34m=\u001b[0m\u001b[0;36m5\u001b[0m\u001b[0;34m,\u001b[0m \u001b[0mc\u001b[0m\u001b[0;34m=\u001b[0m\u001b[0;34m'g'\u001b[0m\u001b[0;34m,\u001b[0m \u001b[0max\u001b[0m\u001b[0;34m=\u001b[0m\u001b[0;36m122\u001b[0m\u001b[0;34m)\u001b[0m\u001b[0;34m\u001b[0m\u001b[0;34m\u001b[0m\u001b[0m\n\u001b[1;32m      5\u001b[0m \u001b[0msplt\u001b[0m\u001b[0;34m.\u001b[0m\u001b[0mscatter\u001b[0m\u001b[0;34m(\u001b[0m\u001b[0mxs\u001b[0m\u001b[0;34m,\u001b[0m \u001b[0mys\u001b[0m\u001b[0;34m,\u001b[0m \u001b[0mc\u001b[0m\u001b[0;34m=\u001b[0m\u001b[0;34m'tab:cyan'\u001b[0m\u001b[0;34m,\u001b[0m \u001b[0malpha\u001b[0m\u001b[0;34m=\u001b[0m\u001b[0;36m.5\u001b[0m\u001b[0;34m)\u001b[0m\u001b[0;34m\u001b[0m\u001b[0;34m\u001b[0m\u001b[0m\n",
            "\u001b[0;31mNameError\u001b[0m: name 'splt' is not defined"
          ]
        }
      ],
      "execution_count": 14,
      "metadata": {
        "ExecuteTime": {
          "end_time": "2019-03-23T05:29:17.787024Z",
          "start_time": "2019-03-23T05:29:17.599378Z"
        }
      }
    },
    {
      "cell_type": "code",
      "source": [
        "splt.scatter(xs, ys, c='b', ax=121, fig='new', figsize=(10, 4))\n",
        "\n",
        "oldax = splt.gca()\n",
        "\n",
        "splt.plot(xl, yl, ls='-.', lw=5, c='g', ax=122)\n",
        "\n",
        "splt.plot(xl, yl, ls='-.', lw=5, c='r', ax=oldax, rtcf=True)\n",
        "\nsplt.scatter(xs, ys, c='tab:cyan', alpha=.5)"
      ],
      "outputs": [
        {
          "output_type": "error",
          "ename": "NameError",
          "evalue": "name 'splt' is not defined",
          "traceback": [
            "\u001b[0;31m---------------------------------------------------------------------------\u001b[0m",
            "\u001b[0;31mNameError\u001b[0m                                 Traceback (most recent call last)",
            "\u001b[0;32m<ipython-input-15-7a79ac91215d>\u001b[0m in \u001b[0;36m<module>\u001b[0;34m\u001b[0m\n\u001b[0;32m----> 1\u001b[0;31m \u001b[0msplt\u001b[0m\u001b[0;34m.\u001b[0m\u001b[0mscatter\u001b[0m\u001b[0;34m(\u001b[0m\u001b[0mxs\u001b[0m\u001b[0;34m,\u001b[0m \u001b[0mys\u001b[0m\u001b[0;34m,\u001b[0m \u001b[0mc\u001b[0m\u001b[0;34m=\u001b[0m\u001b[0;34m'b'\u001b[0m\u001b[0;34m,\u001b[0m \u001b[0max\u001b[0m\u001b[0;34m=\u001b[0m\u001b[0;36m121\u001b[0m\u001b[0;34m,\u001b[0m \u001b[0mfig\u001b[0m\u001b[0;34m=\u001b[0m\u001b[0;34m'new'\u001b[0m\u001b[0;34m,\u001b[0m \u001b[0mfigsize\u001b[0m\u001b[0;34m=\u001b[0m\u001b[0;34m(\u001b[0m\u001b[0;36m10\u001b[0m\u001b[0;34m,\u001b[0m \u001b[0;36m4\u001b[0m\u001b[0;34m)\u001b[0m\u001b[0;34m)\u001b[0m\u001b[0;34m\u001b[0m\u001b[0;34m\u001b[0m\u001b[0m\n\u001b[0m\u001b[1;32m      2\u001b[0m \u001b[0;34m\u001b[0m\u001b[0m\n\u001b[1;32m      3\u001b[0m \u001b[0moldax\u001b[0m \u001b[0;34m=\u001b[0m \u001b[0msplt\u001b[0m\u001b[0;34m.\u001b[0m\u001b[0mgca\u001b[0m\u001b[0;34m(\u001b[0m\u001b[0;34m)\u001b[0m\u001b[0;34m\u001b[0m\u001b[0;34m\u001b[0m\u001b[0m\n\u001b[1;32m      4\u001b[0m \u001b[0;34m\u001b[0m\u001b[0m\n\u001b[1;32m      5\u001b[0m \u001b[0msplt\u001b[0m\u001b[0;34m.\u001b[0m\u001b[0mplot\u001b[0m\u001b[0;34m(\u001b[0m\u001b[0mxl\u001b[0m\u001b[0;34m,\u001b[0m \u001b[0myl\u001b[0m\u001b[0;34m,\u001b[0m \u001b[0mls\u001b[0m\u001b[0;34m=\u001b[0m\u001b[0;34m'-.'\u001b[0m\u001b[0;34m,\u001b[0m \u001b[0mlw\u001b[0m\u001b[0;34m=\u001b[0m\u001b[0;36m5\u001b[0m\u001b[0;34m,\u001b[0m \u001b[0mc\u001b[0m\u001b[0;34m=\u001b[0m\u001b[0;34m'g'\u001b[0m\u001b[0;34m,\u001b[0m \u001b[0max\u001b[0m\u001b[0;34m=\u001b[0m\u001b[0;36m122\u001b[0m\u001b[0;34m)\u001b[0m\u001b[0;34m\u001b[0m\u001b[0;34m\u001b[0m\u001b[0m\n",
            "\u001b[0;31mNameError\u001b[0m: name 'splt' is not defined"
          ]
        }
      ],
      "execution_count": 15,
      "metadata": {
        "ExecuteTime": {
          "end_time": "2019-03-23T05:29:17.977381Z",
          "start_time": "2019-03-23T05:29:17.789157Z"
        }
      }
    },
    {
      "cell_type": "code",
      "source": [
        "xkw = {'fontsize': 12, 'title': {'fontsize': 20}, 'xlabel_color': 'red',\n",
        "       'ylabel': {'fontsize': 14}}\n",
        "\n",
        "splt.scatter(xs, ys, c=np.sqrt(xs**2 + ys**2),\n",
        "             label='scatter',\n",
        "             fig='new', figsize=(10, 4),\n",
        "             ax=121, title='Title 1', xlabel='x', ylabel='y',\n",
        "             xlim=(-1, 7), ylim=(-1, 7), aspect='equal',\n",
        "             legend=False,\n",
        "             xkw=xkw)\n",
        "\n",
        "splt.plot(xl, yl, ls='-.', lw=5, c='g', label='line',\n",
        "          ax=122,\n",
        "          title='Title 2', xlabel='X', ylabel='Y', \n",
        "          xscale='log',\n",
        "          xkw=xkw)"
      ],
      "outputs": [
        {
          "output_type": "error",
          "ename": "NameError",
          "evalue": "name 'splt' is not defined",
          "traceback": [
            "\u001b[0;31m---------------------------------------------------------------------------\u001b[0m",
            "\u001b[0;31mNameError\u001b[0m                                 Traceback (most recent call last)",
            "\u001b[0;32m<ipython-input-16-1d90ac682f6c>\u001b[0m in \u001b[0;36m<module>\u001b[0;34m\u001b[0m\n\u001b[1;32m      2\u001b[0m        'ylabel': {'fontsize': 14}}\n\u001b[1;32m      3\u001b[0m \u001b[0;34m\u001b[0m\u001b[0m\n\u001b[0;32m----> 4\u001b[0;31m splt.scatter(xs, ys, c=np.sqrt(xs**2 + ys**2),\n\u001b[0m\u001b[1;32m      5\u001b[0m              \u001b[0mlabel\u001b[0m\u001b[0;34m=\u001b[0m\u001b[0;34m'scatter'\u001b[0m\u001b[0;34m,\u001b[0m\u001b[0;34m\u001b[0m\u001b[0;34m\u001b[0m\u001b[0m\n\u001b[1;32m      6\u001b[0m              \u001b[0mfig\u001b[0m\u001b[0;34m=\u001b[0m\u001b[0;34m'new'\u001b[0m\u001b[0;34m,\u001b[0m \u001b[0mfigsize\u001b[0m\u001b[0;34m=\u001b[0m\u001b[0;34m(\u001b[0m\u001b[0;36m10\u001b[0m\u001b[0;34m,\u001b[0m \u001b[0;36m4\u001b[0m\u001b[0;34m)\u001b[0m\u001b[0;34m,\u001b[0m\u001b[0;34m\u001b[0m\u001b[0;34m\u001b[0m\u001b[0m\n",
            "\u001b[0;31mNameError\u001b[0m: name 'splt' is not defined"
          ]
        }
      ],
      "execution_count": 16,
      "metadata": {
        "ExecuteTime": {
          "end_time": "2019-03-23T05:29:18.408514Z",
          "start_time": "2019-03-23T05:29:17.978802Z"
        }
      }
    },
    {
      "cell_type": "markdown",
      "source": [
        "### Colorbars\n",
        "\n",
        "*starkplot* can also do colorbars.\n",
        "\n\n",
        "The available arguments are:\n",
        "- colorbar\n",
        "- clabel\n",
        "- clim\n",
        "- cloc"
      ],
      "metadata": {}
    },
    {
      "cell_type": "code",
      "source": [
        "splt.scatter(xs, ys, c=np.sqrt(xs**2 + ys**2),\n",
        "             ax=121, figsize=(14, 4), overridefig=True,\n",
        "             colorbar=True, clabel='colorbar', clim=(2, 6))"
      ],
      "outputs": [
        {
          "output_type": "error",
          "ename": "NameError",
          "evalue": "name 'splt' is not defined",
          "traceback": [
            "\u001b[0;31m---------------------------------------------------------------------------\u001b[0m",
            "\u001b[0;31mNameError\u001b[0m                                 Traceback (most recent call last)",
            "\u001b[0;32m<ipython-input-17-6f6b01849890>\u001b[0m in \u001b[0;36m<module>\u001b[0;34m\u001b[0m\n\u001b[0;32m----> 1\u001b[0;31m splt.scatter(xs, ys, c=np.sqrt(xs**2 + ys**2),\n\u001b[0m\u001b[1;32m      2\u001b[0m              \u001b[0max\u001b[0m\u001b[0;34m=\u001b[0m\u001b[0;36m121\u001b[0m\u001b[0;34m,\u001b[0m \u001b[0mfigsize\u001b[0m\u001b[0;34m=\u001b[0m\u001b[0;34m(\u001b[0m\u001b[0;36m14\u001b[0m\u001b[0;34m,\u001b[0m \u001b[0;36m4\u001b[0m\u001b[0;34m)\u001b[0m\u001b[0;34m,\u001b[0m \u001b[0moverridefig\u001b[0m\u001b[0;34m=\u001b[0m\u001b[0;32mTrue\u001b[0m\u001b[0;34m,\u001b[0m\u001b[0;34m\u001b[0m\u001b[0;34m\u001b[0m\u001b[0m\n\u001b[1;32m      3\u001b[0m              colorbar=True, clabel='colorbar', clim=(2, 6))\n",
            "\u001b[0;31mNameError\u001b[0m: name 'splt' is not defined"
          ]
        }
      ],
      "execution_count": 17,
      "metadata": {
        "ExecuteTime": {
          "end_time": "2019-03-23T05:29:18.579016Z",
          "start_time": "2019-03-23T05:29:18.410938Z"
        },
        "scrolled": false
      }
    },
    {
      "cell_type": "markdown",
      "source": [
        "For a more fully featured example, a colorbar is added to the subplots made above."
      ],
      "metadata": {}
    },
    {
      "cell_type": "code",
      "source": [
        "xkw = {'fontsize': 12, 'title': {'fontsize': 20}, 'xlabel_color': 'red',\n",
        "       'ylabel': {'fontsize': 14}}\n",
        "\n",
        "splt.scatter(xs, ys, c=np.sqrt(xs**2 + ys**2),\n",
        "             label='scatter',\n",
        "             fig='new', figsize=(10, 4),\n",
        "             ax=121, title='Title 1', xlabel='x', ylabel='y',\n",
        "             xlim=(-1, 7), ylim=(-1, 7), aspect='equal',\n",
        "             colorbar=True, clabel='colorbar',\n",
        "             legend=False,\n",
        "             xkw=xkw)\n",
        "\n",
        "splt.plot(xl, yl, ls='-.', lw=5, c='g', label='line',\n",
        "          ax=122,\n",
        "          title='Title 2', xlabel='X', ylabel='Y', \n",
        "          xscale='log',\n",
        "          xkw=xkw)"
      ],
      "outputs": [
        {
          "output_type": "error",
          "ename": "NameError",
          "evalue": "name 'splt' is not defined",
          "traceback": [
            "\u001b[0;31m---------------------------------------------------------------------------\u001b[0m",
            "\u001b[0;31mNameError\u001b[0m                                 Traceback (most recent call last)",
            "\u001b[0;32m<ipython-input-18-762bf930beed>\u001b[0m in \u001b[0;36m<module>\u001b[0;34m\u001b[0m\n\u001b[1;32m      2\u001b[0m        'ylabel': {'fontsize': 14}}\n\u001b[1;32m      3\u001b[0m \u001b[0;34m\u001b[0m\u001b[0m\n\u001b[0;32m----> 4\u001b[0;31m splt.scatter(xs, ys, c=np.sqrt(xs**2 + ys**2),\n\u001b[0m\u001b[1;32m      5\u001b[0m              \u001b[0mlabel\u001b[0m\u001b[0;34m=\u001b[0m\u001b[0;34m'scatter'\u001b[0m\u001b[0;34m,\u001b[0m\u001b[0;34m\u001b[0m\u001b[0;34m\u001b[0m\u001b[0m\n\u001b[1;32m      6\u001b[0m              \u001b[0mfig\u001b[0m\u001b[0;34m=\u001b[0m\u001b[0;34m'new'\u001b[0m\u001b[0;34m,\u001b[0m \u001b[0mfigsize\u001b[0m\u001b[0;34m=\u001b[0m\u001b[0;34m(\u001b[0m\u001b[0;36m10\u001b[0m\u001b[0;34m,\u001b[0m \u001b[0;36m4\u001b[0m\u001b[0;34m)\u001b[0m\u001b[0;34m,\u001b[0m\u001b[0;34m\u001b[0m\u001b[0;34m\u001b[0m\u001b[0m\n",
            "\u001b[0;31mNameError\u001b[0m: name 'splt' is not defined"
          ]
        }
      ],
      "execution_count": 18,
      "metadata": {
        "ExecuteTime": {
          "end_time": "2019-03-23T05:29:18.989458Z",
          "start_time": "2019-03-23T05:29:18.580728Z"
        }
      }
    },
    {
      "cell_type": "markdown",
      "source": [
        "### Side Histograms\n",
        "\n*starkplot* can also make side histograms. This is still a more experimental feature, but is perfectly adequate for making histograms for a single plot."
      ],
      "metadata": {}
    },
    {
      "cell_type": "code",
      "source": [
        "splt.scatter(xs, ys, c=np.sqrt(xs**2 + ys**2),\n",
        "             fig='new', figsize=(10, 10),\n",
        "             sidehists=True, shtype='stepfilled',\n",
        "             suptitle=('With Side Histograms', {'fontsize': 20}),\n",
        "             tight_layout={'rect': [0, 0, 1, .95]})"
      ],
      "outputs": [
        {
          "output_type": "error",
          "ename": "NameError",
          "evalue": "name 'splt' is not defined",
          "traceback": [
            "\u001b[0;31m---------------------------------------------------------------------------\u001b[0m",
            "\u001b[0;31mNameError\u001b[0m                                 Traceback (most recent call last)",
            "\u001b[0;32m<ipython-input-19-c2fa3817f790>\u001b[0m in \u001b[0;36m<module>\u001b[0;34m\u001b[0m\n\u001b[0;32m----> 1\u001b[0;31m splt.scatter(xs, ys, c=np.sqrt(xs**2 + ys**2),\n\u001b[0m\u001b[1;32m      2\u001b[0m              \u001b[0mfig\u001b[0m\u001b[0;34m=\u001b[0m\u001b[0;34m'new'\u001b[0m\u001b[0;34m,\u001b[0m \u001b[0mfigsize\u001b[0m\u001b[0;34m=\u001b[0m\u001b[0;34m(\u001b[0m\u001b[0;36m10\u001b[0m\u001b[0;34m,\u001b[0m \u001b[0;36m10\u001b[0m\u001b[0;34m)\u001b[0m\u001b[0;34m,\u001b[0m\u001b[0;34m\u001b[0m\u001b[0;34m\u001b[0m\u001b[0m\n\u001b[1;32m      3\u001b[0m              \u001b[0msidehists\u001b[0m\u001b[0;34m=\u001b[0m\u001b[0;32mTrue\u001b[0m\u001b[0;34m,\u001b[0m \u001b[0mshtype\u001b[0m\u001b[0;34m=\u001b[0m\u001b[0;34m'stepfilled'\u001b[0m\u001b[0;34m,\u001b[0m\u001b[0;34m\u001b[0m\u001b[0;34m\u001b[0m\u001b[0m\n\u001b[1;32m      4\u001b[0m              \u001b[0msuptitle\u001b[0m\u001b[0;34m=\u001b[0m\u001b[0;34m(\u001b[0m\u001b[0;34m'With Side Histograms'\u001b[0m\u001b[0;34m,\u001b[0m \u001b[0;34m{\u001b[0m\u001b[0;34m'fontsize'\u001b[0m\u001b[0;34m:\u001b[0m \u001b[0;36m20\u001b[0m\u001b[0;34m}\u001b[0m\u001b[0;34m)\u001b[0m\u001b[0;34m,\u001b[0m\u001b[0;34m\u001b[0m\u001b[0;34m\u001b[0m\u001b[0m\n\u001b[1;32m      5\u001b[0m              tight_layout={'rect': [0, 0, 1, .95]})\n",
            "\u001b[0;31mNameError\u001b[0m: name 'splt' is not defined"
          ]
        }
      ],
      "execution_count": 19,
      "metadata": {
        "ExecuteTime": {
          "end_time": "2019-03-23T05:29:19.310532Z",
          "start_time": "2019-03-23T05:29:18.990910Z"
        }
      }
    },
    {
      "cell_type": "markdown",
      "source": [
        "There are a variety of planned features.\n",
        "Right now only one object in the plot may have side histograms. I plan to fix this so that there can be multiple side histograms"
      ],
      "metadata": {
        "ExecuteTime": {
          "end_time": "2019-03-21T00:28:36.692348Z",
          "start_time": "2019-03-21T00:28:36.652877Z"
        }
      }
    },
    {
      "cell_type": "markdown",
      "source": [
        "<br><br>\n",
        "\n",
        "---\n",
        "\n",
        "<br><br>\n",
        "\n\n# Decorators"
      ],
      "metadata": {}
    },
    {
      "cell_type": "markdown",
      "source": [
        "When making a series of new figures / axes, setting all the plot options each time can be rather verbose. `starkplot` offers powerful options to make repeated plots simpler.\n",
        "\n",
        "The paradigm of *starkplot* is decorators. All the previously demonstrated capabilities of `splt` come from decorating `pyplot` functions with `mpl_decorator`.\n",
        "\n`mpl_decorator` is available for creating plotting functions and presetting many plot options."
      ],
      "metadata": {}
    },
    {
      "cell_type": "code",
      "source": [
        "@mpl_decorator(fig='new', title='untitled', xlabel='x', ylabel='y',\n",
        "               xkw={'fontsize': 10})  # <- these are defaults\n",
        "def myplot(x, y, **kw):  # <- alway's need **kw\n",
        "    im = plt.scatter(x, y)\n",
        "    plt.scatter(-x + 6, y)\n",
        "    return im  # <- for making colorbars and side histograms\n",
        "\n",
        "# calling\n",
        "myplot(xs, ys, title='plot1')  # <- options can be passed here & override the defaults"
      ],
      "outputs": [
        {
          "output_type": "error",
          "ename": "NameError",
          "evalue": "name 'mpl_decorator' is not defined",
          "traceback": [
            "\u001b[0;31m---------------------------------------------------------------------------\u001b[0m",
            "\u001b[0;31mNameError\u001b[0m                                 Traceback (most recent call last)",
            "\u001b[0;32m<ipython-input-20-452808aad989>\u001b[0m in \u001b[0;36m<module>\u001b[0;34m\u001b[0m\n\u001b[0;32m----> 1\u001b[0;31m @mpl_decorator(fig='new', title='untitled', xlabel='x', ylabel='y',\n\u001b[0m\u001b[1;32m      2\u001b[0m                xkw={'fontsize': 10})  # <- these are defaults\n\u001b[1;32m      3\u001b[0m \u001b[0;32mdef\u001b[0m \u001b[0mmyplot\u001b[0m\u001b[0;34m(\u001b[0m\u001b[0mx\u001b[0m\u001b[0;34m,\u001b[0m \u001b[0my\u001b[0m\u001b[0;34m,\u001b[0m \u001b[0;34m**\u001b[0m\u001b[0mkw\u001b[0m\u001b[0;34m)\u001b[0m\u001b[0;34m:\u001b[0m  \u001b[0;31m# <- alway's need **kw\u001b[0m\u001b[0;34m\u001b[0m\u001b[0;34m\u001b[0m\u001b[0m\n\u001b[1;32m      4\u001b[0m     \u001b[0mim\u001b[0m \u001b[0;34m=\u001b[0m \u001b[0mplt\u001b[0m\u001b[0;34m.\u001b[0m\u001b[0mscatter\u001b[0m\u001b[0;34m(\u001b[0m\u001b[0mx\u001b[0m\u001b[0;34m,\u001b[0m \u001b[0my\u001b[0m\u001b[0;34m)\u001b[0m\u001b[0;34m\u001b[0m\u001b[0;34m\u001b[0m\u001b[0m\n\u001b[1;32m      5\u001b[0m     \u001b[0mplt\u001b[0m\u001b[0;34m.\u001b[0m\u001b[0mscatter\u001b[0m\u001b[0;34m(\u001b[0m\u001b[0;34m-\u001b[0m\u001b[0mx\u001b[0m \u001b[0;34m+\u001b[0m \u001b[0;36m6\u001b[0m\u001b[0;34m,\u001b[0m \u001b[0my\u001b[0m\u001b[0;34m)\u001b[0m\u001b[0;34m\u001b[0m\u001b[0;34m\u001b[0m\u001b[0m\n",
            "\u001b[0;31mNameError\u001b[0m: name 'mpl_decorator' is not defined"
          ]
        }
      ],
      "execution_count": 20,
      "metadata": {
        "ExecuteTime": {
          "end_time": "2019-03-23T05:29:19.642690Z",
          "start_time": "2019-03-23T05:29:19.535830Z"
        }
      }
    },
    {
      "cell_type": "markdown",
      "source": [
        "In case even using this decorator syntax is repetitive, new decorators with preset options can be constructed using `MatplotlibDecorator`."
      ],
      "metadata": {}
    },
    {
      "cell_type": "code",
      "source": [
        "# making new decorator\n",
        "new_decorator = MatplotlibDecorator(fig='new', invert_axis='xyz',\n",
        "                                    xlabel='x',\n",
        "                                    xlim=(0, 10), title='default title')\n",
        "\n",
        "@new_decorator  # <- using new decorator\n",
        "def myplot2(x, y, **kw):\n",
        "    im = plt.scatter(x, y)\n",
        "    plt.scatter(-x + 6, y)\n",
        "    return im  # <- for making colorbars and side histograms\n",
        "\n",
        "# calling\n",
        "myplot2(xs, ys, title='plot2')  # <- options can be passed here & override the defaults\n",
        "\n",
        "@new_decorator(title='new default title', xlim=None)  # <- overriding properties\n",
        "def myplot3(x, y, **kw):\n",
        "    im = plt.scatter(x, y)\n",
        "    plt.scatter(-x + 6, y)\n",
        "    return im  # <- for making colorbars and side histograms\n",
        "\nmyplot3(xs, ys)  # <- options can be passed here & override the defaults"
      ],
      "outputs": [
        {
          "output_type": "error",
          "ename": "NameError",
          "evalue": "name 'MatplotlibDecorator' is not defined",
          "traceback": [
            "\u001b[0;31m---------------------------------------------------------------------------\u001b[0m",
            "\u001b[0;31mNameError\u001b[0m                                 Traceback (most recent call last)",
            "\u001b[0;32m<ipython-input-21-e912d90443ae>\u001b[0m in \u001b[0;36m<module>\u001b[0;34m\u001b[0m\n\u001b[1;32m      1\u001b[0m \u001b[0;31m# making new decorator\u001b[0m\u001b[0;34m\u001b[0m\u001b[0;34m\u001b[0m\u001b[0;34m\u001b[0m\u001b[0m\n\u001b[0;32m----> 2\u001b[0;31m new_decorator = MatplotlibDecorator(fig='new', invert_axis='xyz',\n\u001b[0m\u001b[1;32m      3\u001b[0m                                     \u001b[0mxlabel\u001b[0m\u001b[0;34m=\u001b[0m\u001b[0;34m'x'\u001b[0m\u001b[0;34m,\u001b[0m\u001b[0;34m\u001b[0m\u001b[0;34m\u001b[0m\u001b[0m\n\u001b[1;32m      4\u001b[0m                                     xlim=(0, 10), title='default title')\n\u001b[1;32m      5\u001b[0m \u001b[0;34m\u001b[0m\u001b[0m\n",
            "\u001b[0;31mNameError\u001b[0m: name 'MatplotlibDecorator' is not defined"
          ]
        }
      ],
      "execution_count": 21,
      "metadata": {
        "ExecuteTime": {
          "end_time": "2019-03-23T05:30:16.868256Z",
          "start_time": "2019-03-23T05:30:16.629167Z"
        },
        "scrolled": false
      }
    },
    {
      "cell_type": "markdown",
      "source": [
        "## Documentation\n",
        "\n",
        "decorators have a lot of documentation. Newly constructed decorators, with different defaults, will have appropriately modified documentations.\n",
        "\nFor instance, `new_decorator` has a different default title than `mpl_decorator`. This can be seen below."
      ],
      "metadata": {}
    },
    {
      "cell_type": "code",
      "source": [
        "print(help(mpl_decorator))"
      ],
      "outputs": [
        {
          "output_type": "error",
          "ename": "NameError",
          "evalue": "name 'mpl_decorator' is not defined",
          "traceback": [
            "\u001b[0;31m---------------------------------------------------------------------------\u001b[0m",
            "\u001b[0;31mNameError\u001b[0m                                 Traceback (most recent call last)",
            "\u001b[0;32m<ipython-input-22-2e26ec4ef927>\u001b[0m in \u001b[0;36m<module>\u001b[0;34m\u001b[0m\n\u001b[0;32m----> 1\u001b[0;31m \u001b[0mprint\u001b[0m\u001b[0;34m(\u001b[0m\u001b[0mhelp\u001b[0m\u001b[0;34m(\u001b[0m\u001b[0mmpl_decorator\u001b[0m\u001b[0;34m)\u001b[0m\u001b[0;34m)\u001b[0m\u001b[0;34m\u001b[0m\u001b[0;34m\u001b[0m\u001b[0m\n\u001b[0m",
            "\u001b[0;31mNameError\u001b[0m: name 'mpl_decorator' is not defined"
          ]
        }
      ],
      "execution_count": 22,
      "metadata": {
        "ExecuteTime": {
          "end_time": "2019-03-23T05:29:20.178740Z",
          "start_time": "2019-03-23T05:29:20.175614Z"
        },
        "scrolled": true
      }
    },
    {
      "cell_type": "code",
      "source": [
        "print(help(new_decorator))"
      ],
      "outputs": [
        {
          "output_type": "error",
          "ename": "NameError",
          "evalue": "name 'new_decorator' is not defined",
          "traceback": [
            "\u001b[0;31m---------------------------------------------------------------------------\u001b[0m",
            "\u001b[0;31mNameError\u001b[0m                                 Traceback (most recent call last)",
            "\u001b[0;32m<ipython-input-23-389bedc54fb2>\u001b[0m in \u001b[0;36m<module>\u001b[0;34m\u001b[0m\n\u001b[0;32m----> 1\u001b[0;31m \u001b[0mprint\u001b[0m\u001b[0;34m(\u001b[0m\u001b[0mhelp\u001b[0m\u001b[0;34m(\u001b[0m\u001b[0mnew_decorator\u001b[0m\u001b[0;34m)\u001b[0m\u001b[0;34m)\u001b[0m\u001b[0;34m\u001b[0m\u001b[0;34m\u001b[0m\u001b[0m\n\u001b[0m",
            "\u001b[0;31mNameError\u001b[0m: name 'new_decorator' is not defined"
          ]
        }
      ],
      "execution_count": 23,
      "metadata": {
        "ExecuteTime": {
          "end_time": "2019-03-23T05:29:20.183293Z",
          "start_time": "2019-03-23T05:29:20.180501Z"
        }
      }
    },
    {
      "cell_type": "code",
      "source": [],
      "outputs": [],
      "execution_count": 24,
      "metadata": {}
    },
    {
      "cell_type": "code",
      "source": [],
      "outputs": [],
      "execution_count": 24,
      "metadata": {}
    },
    {
      "cell_type": "code",
      "source": [],
      "outputs": [],
      "execution_count": 24,
      "metadata": {}
    }
  ],
  "metadata": {
    "hide_input": false,
    "kernelspec": {
      "name": "python3",
      "language": "python",
      "display_name": "Python 3"
    },
    "language_info": {
      "name": "python",
      "version": "3.7.1",
      "mimetype": "text/x-python",
      "codemirror_mode": {
        "name": "ipython",
        "version": 3
      },
      "pygments_lexer": "ipython3",
      "nbconvert_exporter": "python",
      "file_extension": ".py"
    },
    "latex_envs": {
      "report_style_numbering": false,
      "hotkeys": {
        "equation": "Ctrl-E",
        "itemize": "Ctrl-I"
      },
      "LaTeX_envs_menu_present": true,
      "autocomplete": false,
      "autoclose": true,
      "eqNumInitial": 1,
      "bibliofile": "biblio.bib",
      "latex_user_defs": false,
      "current_citInitial": 1,
      "eqLabelWithNumbers": true,
      "labels_anchors": false,
      "cite_by": "apalike",
      "user_envs_cfg": true
    },
    "toc": {
      "toc_position": {
        "height": "calc(100% - 180px)",
        "left": "10px",
        "top": "150px",
        "width": "211.58087158203125px"
      },
      "skip_h1_title": false,
      "number_sections": true,
      "title_cell": "Table of Contents",
      "toc_window_display": true,
      "base_numbering": 1,
      "toc_section_display": true,
      "title_sidebar": "Contents",
      "toc_cell": true,
      "nav_menu": {},
      "sideBar": true
    },
    "varInspector": {
      "cols": {
        "lenName": 16,
        "lenType": 16,
        "lenVar": 40
      },
      "kernels_config": {
        "python": {
          "delete_cmd_postfix": "",
          "delete_cmd_prefix": "del ",
          "library": "var_list.py",
          "varRefreshCmd": "print(var_dic_list())"
        },
        "r": {
          "delete_cmd_postfix": ") ",
          "delete_cmd_prefix": "rm(",
          "library": "var_list.r",
          "varRefreshCmd": "cat(var_dic_list()) "
        }
      },
      "types_to_exclude": [
        "module",
        "function",
        "builtin_function_or_method",
        "instance",
        "_Feature"
      ],
      "window_display": false
    },
    "kernel_info": {
      "name": "python3"
    },
    "nteract": {
      "version": "0.12.3"
    }
  },
  "nbformat": 4,
  "nbformat_minor": 2
}